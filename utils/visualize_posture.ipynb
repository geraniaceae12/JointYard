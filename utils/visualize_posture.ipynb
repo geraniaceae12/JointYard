{
 "cells": [
  {
   "cell_type": "code",
   "execution_count": 1,
   "metadata": {},
   "outputs": [],
   "source": [
    "import sys\n",
    "import os\n",
    "\n",
    "# 'JointYard'의 루트 디렉토리를 sys.path에 추가\n",
    "sys.path.append(os.path.abspath(os.path.join(os.getcwd(), '..')))\n",
    "import pandas as pd\n",
    "import numpy as np\n",
    "import cv2 \n",
    "import matplotlib\n",
    "import matplotlib.pyplot as plt\n",
    "from matplotlib import cm\n",
    "from matplotlib.animation import FFMpegWriter\n",
    "from matplotlib.backends.backend_agg import FigureCanvasAgg as FigureCanvas\n",
    "import plotly.graph_objects as go\n",
    "# 가상환경에 pip install plotly 와 pip install nbformat 필요\n",
    "\n",
    "from preprocess.loadLPdata import LoadLPData\n",
    "from preprocess.reshapedata import reshape_lpdata_for_pca, pcadata_to_lpdata\n",
    "from analysis.dim_reduction.pca import perform_pca \n"
   ]
  },
  {
   "cell_type": "markdown",
   "metadata": {},
   "source": [
    "### FUNCTION"
   ]
  },
  {
   "cell_type": "code",
   "execution_count": 2,
   "metadata": {},
   "outputs": [],
   "source": [
    "def calculate_additional_keypoints(data, additional_points):\n",
    "    \"\"\"\n",
    "    중점 키포인트를 계산하여 데이터에 추가합니다.\n",
    "    \n",
    "    Args:\n",
    "        data (numpy.ndarray): (n_frames, n_keypoints * 3) 형태의 3D 키포인트 데이터.\n",
    "        additional_points (dict): 중점을 계산할 키포인트 쌍과 이름. \n",
    "                                  예: {\"12\": (2, 3), \"13\": (1, 12)}.\n",
    "    \n",
    "    Returns:\n",
    "        numpy.ndarray: 추가된 중점 키포인트를 포함한 데이터. (n_frames, (n_keypoints + 추가 키포인트) * 3)\n",
    "    \"\"\"\n",
    "    n_frames, n_coords = data.shape\n",
    "    n_keypoints = n_coords // 3\n",
    "    data = data.reshape(n_frames, n_keypoints, 3)  # (n_frames, n_keypoints, 3)\n",
    "    \n",
    "    # 중점 계산을 위한 데이터 복사\n",
    "    keypoint_dict = {i + 1: data[:, i] for i in range(n_keypoints)}  # 기존 키포인트\n",
    "    new_keypoints = {}  # 추가 키포인트 저장\n",
    "    \n",
    "    for name, (kp1, kp2) in additional_points.items():\n",
    "        if kp1 in keypoint_dict and kp2 in keypoint_dict:\n",
    "            # 중점 계산\n",
    "            midpoint = (keypoint_dict[kp1] + keypoint_dict[kp2]) / 2\n",
    "            new_keypoints[int(name)] = midpoint\n",
    "        else:\n",
    "            raise ValueError(f\"키포인트 {kp1} 또는 {kp2}가 존재하지 않습니다. 순서를 확인하세요.\")\n",
    "        \n",
    "        # 새로 추가된 키포인트를 keypoint_dict에 저장 (다음 중점 계산에 사용 가능)\n",
    "        keypoint_dict[int(name)] = new_keypoints[int(name)]\n",
    "    \n",
    "    # 기존 키포인트와 추가된 키포인트 결합\n",
    "    additional_data = np.stack(new_keypoints.values(), axis=1) if new_keypoints else np.empty((n_frames, 0, 3))\n",
    "    combined_data = np.concatenate([data, additional_data], axis=1)  # (n_frames, 기존 + 추가 키포인트, 3)\n",
    "    \n",
    "    return combined_data.reshape(n_frames, -1)  # (n_frames, (기존 + 추가 키포인트) * 3)\n"
   ]
  },
  {
   "cell_type": "code",
   "execution_count": 3,
   "metadata": {},
   "outputs": [],
   "source": [
    "def rotate_data(data, angles_deg, axes=('x', 'y', 'z')):\n",
    "    \"\"\"\n",
    "    3D 데이터를 지정된 축(axes) 및 각도(angles_deg)만큼 회전합니다.\n",
    "    입력 데이터가 (n_frames, n_keypoints * 3) 형태일 경우 자동으로 처리합니다.\n",
    "    \n",
    "    Args:\n",
    "        data (numpy.ndarray): (n_frames, n_keypoints * 3) 형태의 3D 데이터.\n",
    "        angles_deg (list or tuple): 각 축에 대한 회전 각도 (도 단위).\n",
    "        axes (list or tuple): 회전할 축. ('x', 'y', 'z') 순서로 지정.\n",
    "    \n",
    "    Returns:\n",
    "        rotated_data (numpy.ndarray): 회전된 3D 데이터. 원래 형태 유지.\n",
    "    \"\"\"\n",
    "    if len(angles_deg) != len(axes):\n",
    "        raise ValueError(\"angles_deg와 axes의 길이는 같아야 합니다.\")\n",
    "    \n",
    "    # 데이터를 (n_frames, n_keypoints, 3) 형태로 변환\n",
    "    n_frames, n_coords = data.shape\n",
    "    n_keypoints = n_coords // 3\n",
    "    data_reshaped = data.reshape(n_frames, n_keypoints, 3)\n",
    "    \n",
    "    # 초기 회전 행렬 (단위 행렬)\n",
    "    rotation_matrix = np.eye(3)\n",
    "    \n",
    "    # 각 축에 대한 회전 행렬 생성 및 조합\n",
    "    for angle_deg, axis in zip(angles_deg, axes):\n",
    "        angle_rad = np.deg2rad(angle_deg)\n",
    "        if axis == 'x':\n",
    "            axis_rotation = np.array([\n",
    "                [1, 0, 0],\n",
    "                [0, np.cos(angle_rad), -np.sin(angle_rad)],\n",
    "                [0, np.sin(angle_rad), np.cos(angle_rad)],\n",
    "            ])\n",
    "        elif axis == 'y':\n",
    "            axis_rotation = np.array([\n",
    "                [np.cos(angle_rad), 0, np.sin(angle_rad)],\n",
    "                [0, 1, 0],\n",
    "                [-np.sin(angle_rad), 0, np.cos(angle_rad)],\n",
    "            ])\n",
    "        elif axis == 'z':\n",
    "            axis_rotation = np.array([\n",
    "                [np.cos(angle_rad), -np.sin(angle_rad), 0],\n",
    "                [np.sin(angle_rad), np.cos(angle_rad), 0],\n",
    "                [0, 0, 1],\n",
    "            ])\n",
    "        else:\n",
    "            raise ValueError(\"Invalid axis. Choose from 'x', 'y', or 'z'.\")\n",
    "        \n",
    "        # 회전 행렬 조합 (곱셈)\n",
    "        rotation_matrix = np.dot(rotation_matrix, axis_rotation)\n",
    "    \n",
    "    # 데이터에 회전 행렬 적용\n",
    "    rotated_data = np.zeros_like(data_reshaped)\n",
    "    for frame_idx in range(n_frames):\n",
    "        rotated_data[frame_idx] = np.dot(data_reshaped[frame_idx], rotation_matrix.T)\n",
    "    \n",
    "    # 원래 데이터 형태로 복구\n",
    "    rotated_data_flattened = rotated_data.reshape(n_frames, n_coords)\n",
    "    print(\"Complete data rotation\")\n",
    "    return rotated_data_flattened\n"
   ]
  },
  {
   "cell_type": "code",
   "execution_count": 4,
   "metadata": {},
   "outputs": [],
   "source": [
    "def visualize_3d_keypoints(data, keypoint_pairs, output_path=\"output_video.mp4\"):\n",
    "    \"\"\"\n",
    "    3D 키포인트와 지정된 연결선을 시각화하여 동영상을 생성합니다.\n",
    "    \n",
    "    Args:\n",
    "        data (numpy.ndarray): (n_frames, n_keypoints * 3) 형태의 3D 키포인트 데이터.\n",
    "        keypoint_pairs (list of tuple): 연결할 키포인트 쌍 리스트. 예: [(1, 2), (1, 3), (4, 12)].\n",
    "        output_path (str): 저장할 동영상 경로.\n",
    "    \"\"\"   \n",
    "    n_frames, n_coords = data.shape\n",
    "    n_keypoints = n_coords // 3\n",
    "    data = data.reshape(n_frames, n_keypoints, 3) # (n_frames, n_keypoints, 3)\n",
    "\n",
    "    # 데이터의 전체 범위 계산\n",
    "    x_min, x_max = data[:, :, 0].min(), data[:, :, 0].max()\n",
    "    y_min, y_max = data[:, :, 1].min(), data[:, :, 1].max()\n",
    "    z_min, z_max = data[:, :, 2].min(), data[:, :, 2].max()\n",
    "\n",
    "    margin = 0.1  # 범위 여유 (10%)\n",
    "    x_range = (x_min - margin, x_max + margin)\n",
    "    y_range = (y_min - margin, y_max + margin)\n",
    "    z_range = (z_min - margin, z_max + margin)\n",
    "\n",
    "    # 설정: 3D 플롯\n",
    "    fig = plt.figure()\n",
    "    ax = fig.add_subplot(111, projection=\"3d\")\n",
    "\n",
    "    # 선 생성\n",
    "    colors = plt.cm.tab10(np.linspace(0, 1, len(keypoint_pairs)))\n",
    "    lines = []\n",
    "    for color in colors:\n",
    "        line, = ax.plot([], [], [], color=color)\n",
    "        lines.append(line)\n",
    "\n",
    "    # 동영상 저장 설정\n",
    "    writer = FFMpegWriter(fps=30, metadata=dict(artist=\"Me\"), bitrate=1800)\n",
    "    \n",
    "    with writer.saving(fig, output_path, dpi=100):\n",
    "        for frame_idx in range(n_frames):\n",
    "            # 프레임 데이터\n",
    "            frame_data = data[frame_idx]\n",
    "            \n",
    "            # 선 그리기\n",
    "            for line, (start, end) in zip(lines, keypoint_pairs):\n",
    "                start_point = frame_data[start - 1]\n",
    "                end_point = frame_data[end - 1]\n",
    "                \n",
    "                # 각 선의 좌표 업데이트\n",
    "                line.set_data([start_point[0], end_point[0]], [start_point[1], end_point[1]])\n",
    "                line.set_3d_properties([start_point[2], end_point[2]])\n",
    "\n",
    "            # 축 고정\n",
    "            ax.set_xlim(*x_range)\n",
    "            ax.set_ylim(*y_range)\n",
    "            ax.set_zlim(*z_range)\n",
    "\n",
    "            # 축 설정\n",
    "            ax.set_title(f\"Frame {frame_idx+1}\")\n",
    "            ax.set_xlabel(\"X\")\n",
    "            ax.set_ylabel(\"Y\")\n",
    "            ax.set_zlabel(\"Z\")\n",
    "            ax.grid(False)  # 그리드 제거\n",
    "            #ax.axis('off')\n",
    "\n",
    "            # 3D 뷰 회전 설정\n",
    "            #ax.view_init(elev=180, azim=0) # elev: 위에서 바라보는 각도 (높이), azim: 시계 방향 회전 각도\n",
    "\n",
    "            # 프레임 추가\n",
    "            writer.grab_frame()\n",
    "            \n",
    "    plt.close(fig)\n"
   ]
  },
  {
   "cell_type": "code",
   "execution_count": 5,
   "metadata": {},
   "outputs": [],
   "source": [
    "def visualize_3d_keypoints_and_video(data, keypoint_pairs, video_path, output_path=\"output_video.mp4\"):\n",
    "    \"\"\"\n",
    "    3D 키포인트와 지정된 연결선을 시각화하여 동영상을 생성합니다.\n",
    "    비디오 프레임과 3D 키포인트를 나란히 시각화하여 저장합니다.\n",
    "    \n",
    "    Args:\n",
    "        data (numpy.ndarray): (n_frames, n_keypoints * 3) 형태의 3D 키포인트 데이터.\n",
    "        keypoint_pairs (list of tuple): 연결할 키포인트 쌍 리스트. 예: [(1, 2), (1, 3), (4, 12)].\n",
    "        video_path (str): 비디오 파일 경로.\n",
    "        output_path (str): 저장할 동영상 경로.\n",
    "    \"\"\"   \n",
    "    n_frames, n_coords = data.shape\n",
    "    n_keypoints = n_coords // 3\n",
    "    data = data.reshape(n_frames, n_keypoints, 3)  # (n_frames, n_keypoints, 3)\n",
    "\n",
    "    # 데이터의 전체 범위 계산\n",
    "    x_min, x_max = data[:, :, 0].min(), data[:, :, 0].max()\n",
    "    y_min, y_max = data[:, :, 1].min(), data[:, :, 1].max()\n",
    "    z_min, z_max = data[:, :, 2].min(), data[:, :, 2].max()\n",
    "\n",
    "    margin = 0.1  # 범위 여유 (10%)\n",
    "    x_range = (x_min - margin, x_max + margin)\n",
    "    y_range = (y_min - margin, y_max + margin)\n",
    "    z_range = (z_min - margin, z_max + margin)\n",
    "\n",
    "    # OpenCV를 사용해 비디오 파일을 읽어옵니다.\n",
    "    cap = cv2.VideoCapture(video_path)\n",
    "    if not cap.isOpened():\n",
    "        print(\"Error: 비디오 파일을 열 수 없습니다.\")\n",
    "        return\n",
    "\n",
    "    colors = plt.cm.tab10(np.linspace(0, 1, len(keypoint_pairs)))\n",
    "\n",
    "    # 설정: 3D 플롯과 비디오 플롯을 나란히 배치\n",
    "    fig = plt.figure(figsize=(12, 6))\n",
    "    ax1 = fig.add_subplot(121)  # 비디오 프레임\n",
    "    ax2 = fig.add_subplot(122, projection='3d')  # 3D 키포인트\n",
    "\n",
    "    # 동영상 저장 설정\n",
    "    writer = FFMpegWriter(fps=30, metadata=dict(artist=\"Me\"), bitrate=1800)\n",
    "    \n",
    "    # 동영상 저장\n",
    "    with writer.saving(fig, output_path, dpi=100):\n",
    "        for frame_idx in range(n_frames):\n",
    "            # 비디오 프레임 읽기\n",
    "            ret, frame = cap.read()\n",
    "            if not ret:\n",
    "                print(\"Error: 비디오 프레임을 읽을 수 없습니다.\")\n",
    "                break\n",
    "\n",
    "            # 이전 플롯 내용 지우기\n",
    "            ax1.clear()\n",
    "            ax2.clear()\n",
    "\n",
    "            # 비디오 프레임 표시\n",
    "            ax1.imshow(cv2.cvtColor(frame, cv2.COLOR_BGR2RGB))  # OpenCV는 BGR로 읽으므로 RGB로 변환\n",
    "            ax1.axis('off')\n",
    "\n",
    "            # 3D 키포인트 데이터 그리기\n",
    "            frame_data = data[frame_idx]\n",
    "\n",
    "            # 키포인트 연결선 그리기\n",
    "            for start, end in keypoint_pairs:\n",
    "                start_point = frame_data[start - 1]  # 0-index\n",
    "                end_point = frame_data[end - 1]  # 0-index\n",
    "\n",
    "                ax2.plot(\n",
    "                    [start_point[0], end_point[0]],\n",
    "                    [start_point[1], end_point[1]],\n",
    "                    [start_point[2], end_point[2]],\n",
    "                    label=f\"{start}-{end}\"\n",
    "                )\n",
    "\n",
    "            # 축 고정\n",
    "            ax2.set_xlim(*x_range)\n",
    "            ax2.set_ylim(*y_range)\n",
    "            ax2.set_zlim(*z_range)\n",
    "\n",
    "            # 축 설정\n",
    "            ax2.set_title(f\"Frame {frame_idx + 1}\")\n",
    "            ax2.set_xlabel(\"X\")\n",
    "            ax2.set_ylabel(\"Y\")\n",
    "            ax2.set_zlabel(\"Z\")\n",
    "            ax2.grid(False)\n",
    "\n",
    "            # 프레임 추가\n",
    "            writer.grab_frame()\n",
    "\n",
    "    cap.release()\n",
    "    plt.close(fig)\n"
   ]
  },
  {
   "cell_type": "code",
   "execution_count": 6,
   "metadata": {},
   "outputs": [],
   "source": [
    "def save_3d_keypoints_frame(data, keypoint_pairs, frame_idx, output_path=\"output_frame.png\"):\n",
    "    \"\"\"\n",
    "    3D 키포인트와 지정된 연결선을 시각화하여 지정된 프레임의 이미지를 저장합니다.\n",
    "    \n",
    "    Args:\n",
    "        data (numpy.ndarray): (n_frames, n_keypoints * 3) 형태의 3D 키포인트 데이터.\n",
    "        keypoint_pairs (list of tuple): 연결할 키포인트 쌍 리스트. 예: [(1, 2), (1, 3), (4, 12)].\n",
    "        frame_idx (int): 저장할 프레임의 인덱스 (0부터 시작).\n",
    "        output_path (str): 저장할 이미지 경로.\n",
    "    \"\"\"   \n",
    "    n_frames, n_coords = data.shape\n",
    "    n_keypoints = n_coords // 3\n",
    "    data = data.reshape(n_frames, n_keypoints, 3)  # (n_frames, n_keypoints, 3)\n",
    "\n",
    "    # 데이터의 전체 범위 계산\n",
    "    x_min, x_max = data[:, :, 0].min(), data[:, :, 0].max()\n",
    "    y_min, y_max = data[:, :, 1].min(), data[:, :, 1].max()\n",
    "    z_min, z_max = data[:, :, 2].min(), data[:, :, 2].max()\n",
    "\n",
    "    margin = 0.1  # 범위 여유 (10%)\n",
    "    x_range = (x_min - margin, x_max + margin)\n",
    "    y_range = (y_min - margin, y_max + margin)\n",
    "    z_range = (z_min - margin, z_max + margin)\n",
    "\n",
    "    # 설정: 3D 플롯\n",
    "    fig = plt.figure()\n",
    "    ax = fig.add_subplot(111, projection=\"3d\")\n",
    "\n",
    "    # 선 생성\n",
    "    colors = plt.cm.tab10(np.linspace(0, 1, len(keypoint_pairs)))\n",
    "    lines = []\n",
    "    for color in colors:\n",
    "        line, = ax.plot([], [], [], color=color)\n",
    "        lines.append(line)\n",
    "\n",
    "    # 특정 프레임 데이터\n",
    "    frame_data = data[frame_idx]\n",
    "    \n",
    "    # 선 그리기\n",
    "    for line, (start, end) in zip(lines, keypoint_pairs):\n",
    "        start_point = frame_data[start - 1]\n",
    "        end_point = frame_data[end - 1]\n",
    "        \n",
    "        # 각 선의 좌표 업데이트\n",
    "        line.set_data([start_point[0], end_point[0]], [start_point[1], end_point[1]])\n",
    "        line.set_3d_properties([start_point[2], end_point[2]])\n",
    "\n",
    "    # 축 고정\n",
    "    ax.set_xlim(*x_range)\n",
    "    ax.set_ylim(*y_range)\n",
    "    ax.set_zlim(*z_range)\n",
    "\n",
    "    # 축 설정\n",
    "    ax.set_title(f\"Frame {frame_idx+1}\")\n",
    "    ax.set_xlabel(\"X\")\n",
    "    ax.set_ylabel(\"Y\")\n",
    "    ax.set_zlabel(\"Z\")\n",
    "    ax.grid(False)  # 그리드 제거\n",
    "\n",
    "    # 3D 뷰 회전 설정 (필요시)\n",
    "    # ax.view_init(elev=180, azim=0)\n",
    "\n",
    "    # 이미지를 저장\n",
    "    canvas = FigureCanvas(fig)\n",
    "    canvas.print_figure(output_path, dpi=300)\n",
    "\n",
    "    plt.close(fig)\n",
    "    print(f\"Saved frame {frame_idx+1} as image: {output_path}\")\n"
   ]
  },
  {
   "cell_type": "code",
   "execution_count": 7,
   "metadata": {},
   "outputs": [],
   "source": [
    "def plot_3d_keypoints_frame_plotly(data, keypoint_pairs, frame_idx):\n",
    "    \"\"\"\n",
    "    3D 키포인트와 지정된 연결선을 Plotly로 시각화하여 지정된 프레임을 인터랙티브하게 화면에 표시합니다.\n",
    "    \n",
    "    Args:\n",
    "        data (numpy.ndarray): (n_frames, n_keypoints * 3) 형태의 3D 키포인트 데이터.\n",
    "        keypoint_pairs (list of tuple): 연결할 키포인트 쌍 리스트. 예: [(1, 2), (1, 3), (4, 12)].\n",
    "        frame_idx (int): 표시할 프레임의 인덱스 (0부터 시작).\n",
    "    \"\"\"   \n",
    "    # 데이터 준비\n",
    "    n_frames, n_coords = data.shape\n",
    "    n_keypoints = n_coords // 3\n",
    "    data = data.reshape(n_frames, n_keypoints, 3)  # (n_frames, n_keypoints, 3)\n",
    "\n",
    "    # 특정 프레임 데이터\n",
    "    frame_data = data[frame_idx]\n",
    "    \n",
    "    # 키포인트 3D 위치\n",
    "    x = frame_data[:, 0]\n",
    "    y = frame_data[:, 1]\n",
    "    z = frame_data[:, 2]\n",
    "\n",
    "    # Plotly의 3D 산점도 (scatter3d)\n",
    "    fig = go.Figure()\n",
    "\n",
    "    # 3D 키포인트 플롯 (점의 크기 작게, 색을 검정으로)\n",
    "    fig.add_trace(go.Scatter3d(\n",
    "        x=x, y=y, z=z, mode='markers', marker=dict(size=2, color='black'),  # 크기 작고 색을 검정으로\n",
    "        name=\"Keypoints\"\n",
    "    ))\n",
    "\n",
    "    # 고유한 색상 목록 (20개의 색상을 지정)\n",
    "    line_colors = [\n",
    "        '#FF5733', '#33FF57', '#3357FF', '#F1C40F', '#9B59B6', '#1ABC9C',  # 1~6\n",
    "        '#E74C3C', '#8E44AD', '#2ECC71', '#3498DB', '#F39C12', '#D35400',  # 7~12\n",
    "        '#16A085', '#27AE60', '#2980B9', '#8E44AD', '#F39C12', '#9B59B6',  # 13~18\n",
    "        '#34495E', '#7F8C8D'  # 19~20\n",
    "    ]\n",
    "\n",
    "    # 연결선 그리기 (선 두께를 더 두껍게)\n",
    "    for idx, (start, end) in enumerate(keypoint_pairs):\n",
    "        start_point = frame_data[start - 1]\n",
    "        end_point = frame_data[end - 1]\n",
    "        \n",
    "        fig.add_trace(go.Scatter3d(\n",
    "            x=[start_point[0], end_point[0]],\n",
    "            y=[start_point[1], end_point[1]],\n",
    "            z=[start_point[2], end_point[2]],\n",
    "            mode='lines',\n",
    "            line=dict(color=line_colors[idx % len(line_colors)], width=6),  # 색을 순차적으로 적용\n",
    "            name=f\"Line {start}-{end}\"\n",
    "        ))\n",
    "\n",
    "    # 레이아웃 설정\n",
    "    fig.update_layout(\n",
    "        title=f\"Frame {frame_idx + 1}\",\n",
    "        scene=dict(\n",
    "            xaxis_title='X',\n",
    "            yaxis_title='Y',\n",
    "            zaxis_title='Z',\n",
    "            aspectmode='cube',\n",
    "            # 3D 공간 여백을 넉넉히 하기 위한 범위 설정 (더 넓게)\n",
    "            xaxis_range=[x.min() - 300, x.max() + 300],\n",
    "            yaxis_range=[y.min() - 300, y.max() + 300],\n",
    "            zaxis_range=[z.min() - 300, z.max() + 300],\n",
    "            bgcolor='rgba(0, 0, 0, 0)',  # 배경을 투명하게 설정\n",
    "            xaxis=dict(\n",
    "                showgrid=False, \n",
    "                showticklabels=False,  # 틱과 숫자 레이블 숨김\n",
    "                showline=True,         # 축 선 표시\n",
    "                linecolor='black',     # 축 선 색상 검정으로 설정\n",
    "                linewidth=4,           # 축 선 두께 4로 설정\n",
    "                backgroundcolor='rgba(169, 169, 169, 0.6)',  # XY 평면에 음영 주기\n",
    "            ),\n",
    "            yaxis=dict(\n",
    "                showgrid=False, \n",
    "                showticklabels=False,  # 틱과 숫자 레이블 숨김\n",
    "                showline=True,         # 축 선 표시\n",
    "                linecolor='black',     # 축 선 색상 검정으로 설정\n",
    "                linewidth=4,           # 축 선 두께 4로 설정\n",
    "                backgroundcolor='rgba(169, 169, 169, 0.6)',  # YZ 평면에 음영 주기\n",
    "            ),\n",
    "            zaxis=dict(\n",
    "                showgrid=False, \n",
    "                showticklabels=False,  # 틱과 숫자 레이블 숨김\n",
    "                showline=True,         # 축 선 표시\n",
    "                linecolor='black',     # 축 선 색상 검정으로 설정\n",
    "                linewidth=4,           # 축 선 두께 4로 설정\n",
    "                backgroundcolor='rgba(169, 169, 169, 0.6)',  # XZ 평면에 음영 주기\n",
    "            ),\n",
    "        ),\n",
    "        showlegend=True\n",
    "    )\n",
    "\n",
    "    # Plotly로 인터랙티브한 플롯을 화면에 표시\n",
    "    fig.show()\n"
   ]
  },
  {
   "cell_type": "markdown",
   "metadata": {},
   "source": [
    "### DATALOADER"
   ]
  },
  {
   "cell_type": "code",
   "execution_count": null,
   "metadata": {},
   "outputs": [],
   "source": [
    "# DATA LOAD INFO\n",
    "base_file='/home/jiyoung/Desktop/lai_240524/Post-pose/example/debuglist/debuglist1121.xlsx'\n",
    "eks_csv=True\n",
    "n_keypoints=44\n",
    "keypoints_name = [    \n",
    "    \"nose_1\",\"l_ear_1\",\"r_ear_1\",\"body_1\",\"l_fft_1\",\"r_fft_1\",\"l_hft_1\",\"r_hft_1\",\"top_tail_1\",\"mid_tail_1\",\"end_tail_1\",\n",
    "    \"nose_2\",\"l_ear_2\",\"r_ear_2\",\"body_2\",\"l_fft_2\",\"r_fft_2\",\"l_hft_2\",\"r_hft_2\",\"top_tail_2\",\"mid_tail_2\",\"end_tail_2\",\n",
    "    \"nose_3\",\"l_ear_3\",\"r_ear_3\",\"body_3\",\"l_fft_3\",\"r_fft_3\",\"l_hft_3\",\"r_hft_3\",\"top_tail_3\",\"mid_tail_3\",\"end_tail_3\",\n",
    "    \"nose_4\",\"l_ear_4\",\"r_ear_4\",\"body_4\",\"l_fft_4\",\"r_fft_4\",\"l_hft_4\",\"r_hft_4\",\"top_tail_4\",\"mid_tail_4\",\"end_tail_4\"\n",
    "    ]\n",
    "egocentric_alignment = False\n",
    "egocentric_keypoint = None\n",
    "save_dir = '/home/jiyoung/Desktop/lai_240524/Post-pose/result/debug7_validation/'\n",
    "n_views=4"
   ]
  },
  {
   "cell_type": "code",
   "execution_count": null,
   "metadata": {},
   "outputs": [],
   "source": [
    "loader = LoadLPData(base_file,False, n_keypoints, keypoints_name, save_dir, n_views)\n",
    "lpdata_2d = loader.concatenated_df.groupby('SourceFile') # n_frames * 88"
   ]
  },
  {
   "cell_type": "markdown",
   "metadata": {},
   "source": [
    "### 3D RECONSTRUCTION, related to LP multiview constrain"
   ]
  },
  {
   "cell_type": "code",
   "execution_count": null,
   "metadata": {},
   "outputs": [],
   "source": [
    "print(\"Perform PCA with 3D Reconstruction\")\n",
    "\n",
    "pca_results=[]\n",
    "sourcefile_indices = []\n",
    "for sourcefile, lpdata_2d_group in lpdata_2d:\n",
    "    # DataFrame에서 keypoints만 추출\n",
    "    reshaped_lp_group = reshape_lpdata_for_pca(lpdata_2d_group, loader.keypoint_names, loader.n_views)  # (group_frames*11) * 4\n",
    "    # PCA 수행\n",
    "    pcadata, _, principal_components, _, _ = perform_pca(reshaped_lp_group, n_components=3)\n",
    "    n_bodypoints=int(len(loader.keypoint_names)/loader.n_views)\n",
    "    lpdata_3d_group = principal_components.reshape(len(principal_components)//n_bodypoints,3*n_bodypoints) # group_frames * 33\n",
    "    # SourceFile 인덱스 기록\n",
    "    sourcefile_indices.extend([sourcefile] * lpdata_3d_group.shape[0])\n",
    "    pca_results.append(lpdata_3d_group)\n",
    "\n",
    "lpdata_3d = np.vstack(pca_results) # n_frames * 33\n",
    "sourcefile_indices = np.array(sourcefile_indices) "
   ]
  },
  {
   "cell_type": "markdown",
   "metadata": {},
   "source": [
    "### 2D LP DATA to 3D LP DATA RECONSTRUCTION"
   ]
  },
  {
   "cell_type": "code",
   "execution_count": null,
   "metadata": {},
   "outputs": [],
   "source": [
    "## 2D data coordinate >> calibration estimation and triangulation"
   ]
  },
  {
   "cell_type": "markdown",
   "metadata": {},
   "source": [
    "### CHESSBOARD CALIBRATION to 3D LP DATA RECONSTRUCTION"
   ]
  },
  {
   "cell_type": "code",
   "execution_count": null,
   "metadata": {},
   "outputs": [],
   "source": [
    "## using chessboard video, in/extrinsic calibration >> 2D into 3D reconstruction"
   ]
  },
  {
   "cell_type": "markdown",
   "metadata": {},
   "source": [
    "### VISUALIZE 3D MOIVE"
   ]
  },
  {
   "cell_type": "code",
   "execution_count": null,
   "metadata": {},
   "outputs": [],
   "source": [
    "# Preparation of movie keypoint\n",
    "additional_points = {\"12\": (2, 3)}\n",
    "lpdata_3d_new = calculate_additional_keypoints(lpdata_3d, additional_points)\n",
    "\n",
    "print(f\"Original shape: {lpdata_3d.shape}\")\n",
    "print(f\"New shape: {lpdata_3d_new.shape}\")"
   ]
  },
  {
   "cell_type": "code",
   "execution_count": null,
   "metadata": {},
   "outputs": [],
   "source": [
    "# Rotation of data for visualization\n",
    "angles = [180]  # 각 축에 대한 회전 각도 (도 단위)\n",
    "axes = ['x']  # 회전할 축\n",
    "rotated_data = rotate_data(lpdata_3d_new, angles_deg=angles, axes=axes)\n",
    "#np.save(\"/home/jiyoung/Desktop/lai_240524/Post-pose/result/debuglist2/rotated_data_x180.npy\", rotated_data)"
   ]
  },
  {
   "cell_type": "code",
   "execution_count": null,
   "metadata": {},
   "outputs": [],
   "source": [
    "#rotated_data = np.load(\"/home/jiyoung/Desktop/lai_240524/Post-pose/result/debuglist2/rotated_data_x180.npy\")\n",
    "#video_path = loader.video_paths # find video path"
   ]
  },
  {
   "cell_type": "code",
   "execution_count": null,
   "metadata": {},
   "outputs": [],
   "source": [
    "# VISUALIE 3D MOVIE INFO 1\n",
    "keypoint_pairs = [(1, 2), (1, 3), (2, 3), (4, 12), (4, 5), (4, 6), (4, 7), (4, 8), (4, 9), (9, 10), (10, 11)]\n",
    "specific_sourcefile = \"4fused35_240626_124349_1440_1080.csv\"\n",
    "output_videopath = \"/home/jiyoung/Desktop/lai_240524/Post-pose/result/debuglist2/3d_240626_124349.mp4\"\n",
    "#visualize_3d_keypoints(lpdata_3d_new[sourcefile_indices==specific_sourcefile], keypoint_pairs, output_videopath)\n",
    "visualize_3d_keypoints(rotated_data[sourcefile_indices==specific_sourcefile], keypoint_pairs, output_videopath)"
   ]
  },
  {
   "cell_type": "code",
   "execution_count": null,
   "metadata": {},
   "outputs": [],
   "source": [
    "# VISUALIE 3D MOVIE INFO 2\n",
    "keypoint_pairs = [(1, 2), (1, 3), (2, 3), (4, 12), (4, 5), (4, 6), (4, 7), (4, 8), (4, 9), (9, 10), (10, 11)]\n",
    "specific_sourcefile2 = \"4fused35_240625_152031_1440_1080.csv\"\n",
    "specific_video_path2 = \"/home/jiyoung/Desktop/lai_240524/Post-pose/example/debuglist/4fused35_240625_152031_1440_1080.labeled.mp4\"\n",
    "output_videopath2 = \"/home/jiyoung/Desktop/lai_240524/Post-pose/result/debuglist2/3d_video_240624_152031.mp4\"\n",
    "visualize_3d_keypoints_and_video(rotated_data[sourcefile_indices==specific_sourcefile2], keypoint_pairs, specific_video_path2, output_videopath2)"
   ]
  },
  {
   "cell_type": "markdown",
   "metadata": {},
   "source": [
    "### Visualize Medoid Posture of Cluster"
   ]
  },
  {
   "cell_type": "code",
   "execution_count": null,
   "metadata": {},
   "outputs": [],
   "source": [
    "# 사용 예시\n",
    "medoid_indices = np.load('../path/to/medoid_indices.npy')\n",
    "frame_idx=medoid_indices[0] # start with 0, input the cluster label number\n",
    "\n",
    "keypoint_pairs = [(1, 2), (1, 3), (2, 3), (4, 12), (4, 5), (4, 6), (4, 7), (4, 8), (4, 9), (9, 10), (10, 11)]\n",
    "output_path = \"/home/jiyoung/Desktop/lai_240524/Post-pose/result/medoid_cluster_0.png\"\n",
    "save_3d_keypoints_frame(rotated_data[sourcefile_indices==specific_sourcefile], keypoint_pairs, frame_idx, output_path)"
   ]
  },
  {
   "cell_type": "code",
   "execution_count": null,
   "metadata": {},
   "outputs": [],
   "source": [
    "medoid_indices = np.load('/home/jiyoung/Desktop/lai_240524/Post-pose3D/result/debug7/hdbscan/medoid/medoid_indices_160.npy')\n",
    "lpdata_3d = pd.read_csv('/home/jiyoung/Desktop/lai_240524/Post-pose3D/result/debug7/pca_0.99.csv').values\n",
    "\n",
    "# Preparation of movie keypoint\n",
    "additional_points = {\"12\": (2, 3)}\n",
    "lpdata_3d_new = calculate_additional_keypoints(lpdata_3d, additional_points)\n",
    "\n",
    "print(f\"Original shape: {lpdata_3d.shape}\")\n",
    "print(f\"New shape: {lpdata_3d_new.shape}\")\n",
    "\n",
    "# Rotation of data for visualization\n",
    "angles = [180]  # 각 축에 대한 회전 각도 (도 단위)\n",
    "axes = ['x']  # 회전할 축\n",
    "rotated_data = rotate_data(lpdata_3d_new, angles_deg=angles, axes=axes)\n",
    "\n",
    "# visualize medoid posture by clusters\n",
    "keypoint_pairs = [(1, 2), (1, 3), (2, 3), (4, 12), (4, 5), (4, 6), (4, 7), (4, 8), (4, 9), (9, 10), (10, 11)]\n",
    "save_dir = '/home/jiyoung/Desktop/lai_240524/Post-pose3D/result/debug7/posture/160/'\n",
    "os.makedirs(save_dir, exist_ok=True)\n",
    "for idx, frame in enumerate(medoid_indices):\n",
    "    output_path = os.path.join(save_dir, f'posture_cluster{idx}.png')\n",
    "    save_3d_keypoints_frame(rotated_data,keypoint_pairs,frame,output_path)"
   ]
  },
  {
   "cell_type": "code",
   "execution_count": 8,
   "metadata": {},
   "outputs": [
    {
     "name": "stderr",
     "output_type": "stream",
     "text": [
      "/home/jiyoung/anaconda3/envs/postpose2/lib/python3.10/site-packages/IPython/core/interactiveshell.py:3577: FutureWarning: arrays to stack must be passed as a \"sequence\" type such as list or tuple. Support for non-sequence iterables such as generators is deprecated as of NumPy 1.16 and will raise an error in the future.\n",
      "  exec(code_obj, self.user_global_ns, self.user_ns)\n"
     ]
    },
    {
     "name": "stdout",
     "output_type": "stream",
     "text": [
      "Original shape: (499650, 33)\n",
      "New shape: (499650, 36)\n",
      "Complete data rotation\n"
     ]
    }
   ],
   "source": [
    "medoid_indices = np.load('/home/jiyoung/Desktop/lai_240524/Post-pose3D/result/newdebug2/hdbscan_leaf/medoid/medoid_indices_500.npy')\n",
    "lpdata_3d = pd.read_csv('/home/jiyoung/Desktop/lai_240524/Post-pose3D/result/newdebug2/pca_0.99.csv').values\n",
    "\n",
    "# Preparation of movie keypoint\n",
    "additional_points = {\"12\": (2, 3)}\n",
    "lpdata_3d_new = calculate_additional_keypoints(lpdata_3d, additional_points)\n",
    "\n",
    "print(f\"Original shape: {lpdata_3d.shape}\")\n",
    "print(f\"New shape: {lpdata_3d_new.shape}\")\n",
    "\n",
    "# Rotation of data for visualization\n",
    "angles = [-30]  # 각 축에 대한 회전 각도 (도 단위)\n",
    "axes = ['x']  # 회전할 축\n",
    "rotated_data = rotate_data(lpdata_3d_new, angles_deg=angles, axes=axes)\n",
    "\n",
    "# # visualize medoid posture by clusters\n",
    "# keypoint_pairs = [(1, 2), (1, 3), (2, 3), (4, 12), (4, 5), (4, 6), (4, 7), (4, 8), (4, 9), (9, 10), (10, 11)]\n",
    "# save_dir = '/home/jiyoung/Desktop/lai_240524/Post-pose3D/result/newdebug2/hdbscan_leaf/posture/500/'\n",
    "# os.makedirs(save_dir, exist_ok=True)\n",
    "# for idx, frame in enumerate(medoid_indices):\n",
    "#     plot_3d_keypoints_frame_plotly(lpdata_3d_new,keypoint_pairs,frame)\n",
    "#     #plot_3d_keypoints_frame_plotly(rotated_data,keypoint_pairs,frame)\n",
    "    "
   ]
  },
  {
   "cell_type": "code",
   "execution_count": 9,
   "metadata": {},
   "outputs": [],
   "source": [
    "# closest_indices = np.load('/home/jiyoung/Desktop/lai_240524/Post-pose3D/result/newdebug2/hdbscan_leaf/medoid/cluster_sampling_indices_500.npy')\n",
    "# medoid_frame = closest_indices[3,1]"
   ]
  },
  {
   "cell_type": "code",
   "execution_count": null,
   "metadata": {},
   "outputs": [],
   "source": [
    "# visualize medoid posture by clusters\n",
    "keypoint_pairs = [(1, 2), (1, 3), (2, 3), (4, 12), (4, 5), (4, 6), (4, 7), (4, 8), (4, 9), (9, 10), (10, 11)]\n",
    "save_dir = '/home/jiyoung/Desktop/lai_240524/Post-pose3D/result/newdebug2/hdbscan_leaf/posture/500/'\n",
    "os.makedirs(save_dir, exist_ok=True)\n",
    "cluster_number = 3\n",
    "medoid_frame = medoid_indices[cluster_number]\n",
    "\n",
    "plot_3d_keypoints_frame_plotly(lpdata_3d_new,keypoint_pairs,medoid_frame)\n",
    "plot_3d_keypoints_frame_plotly(rotated_data,keypoint_pairs,medoid_frame)\n",
    "    "
   ]
  },
  {
   "cell_type": "code",
   "execution_count": 40,
   "metadata": {},
   "outputs": [
    {
     "name": "stderr",
     "output_type": "stream",
     "text": [
      "/home/jiyoung/anaconda3/envs/postpose2/lib/python3.10/site-packages/IPython/core/interactiveshell.py:3577: FutureWarning:\n",
      "\n",
      "arrays to stack must be passed as a \"sequence\" type such as list or tuple. Support for non-sequence iterables such as generators is deprecated as of NumPy 1.16 and will raise an error in the future.\n",
      "\n"
     ]
    },
    {
     "name": "stdout",
     "output_type": "stream",
     "text": [
      "Original shape: (499650, 33)\n",
      "New shape: (499650, 36)\n",
      "Complete data rotation\n",
      "364813 364813\n"
     ]
    },
    {
     "data": {
      "application/vnd.plotly.v1+json": {
       "config": {
        "plotlyServerURL": "https://plot.ly"
       },
       "data": [
        {
         "marker": {
          "color": "black",
          "size": 2
         },
         "mode": "markers",
         "name": "Keypoints",
         "type": "scatter3d",
         "x": [
          499.6714818488864,
          587.6611246702512,
          511.320800084832,
          624.0274179314628,
          603.2468298410139,
          542.6767417472478,
          714.1692396830109,
          626.4918421637683,
          711.6624605520601,
          783.2692548463522,
          840.7445345087659,
          549.4909623775416
         ],
         "y": [
          658.4661945465351,
          590.057073169985,
          536.4445638477091,
          443.5128786241368,
          545.7044719172926,
          515.6315912836311,
          409.635125319758,
          340.03809808365554,
          283.9600238426166,
          124.3372638596377,
          -98.32494541965386,
          563.250818508847
         ],
         "z": [
          -16.43053176725259,
          70.67601908709763,
          74.20268475056275,
          34.6727677832354,
          -88.15595398834114,
          -95.8345050436389,
          -122.43713096522734,
          -114.05442177791892,
          -29.50965316615754,
          -23.760687798031736,
          -45.14684447978915,
          72.4393519188302
         ]
        },
        {
         "line": {
          "color": "#FF5733",
          "width": 6
         },
         "mode": "lines",
         "name": "Line 1-2",
         "type": "scatter3d",
         "x": [
          499.6714818488864,
          587.6611246702512
         ],
         "y": [
          658.4661945465351,
          590.057073169985
         ],
         "z": [
          -16.43053176725259,
          70.67601908709763
         ]
        },
        {
         "line": {
          "color": "#33FF57",
          "width": 6
         },
         "mode": "lines",
         "name": "Line 1-3",
         "type": "scatter3d",
         "x": [
          499.6714818488864,
          511.320800084832
         ],
         "y": [
          658.4661945465351,
          536.4445638477091
         ],
         "z": [
          -16.43053176725259,
          74.20268475056275
         ]
        },
        {
         "line": {
          "color": "#3357FF",
          "width": 6
         },
         "mode": "lines",
         "name": "Line 2-3",
         "type": "scatter3d",
         "x": [
          587.6611246702512,
          511.320800084832
         ],
         "y": [
          590.057073169985,
          536.4445638477091
         ],
         "z": [
          70.67601908709763,
          74.20268475056275
         ]
        },
        {
         "line": {
          "color": "#F1C40F",
          "width": 6
         },
         "mode": "lines",
         "name": "Line 4-12",
         "type": "scatter3d",
         "x": [
          624.0274179314628,
          549.4909623775416
         ],
         "y": [
          443.5128786241368,
          563.250818508847
         ],
         "z": [
          34.6727677832354,
          72.4393519188302
         ]
        },
        {
         "line": {
          "color": "#9B59B6",
          "width": 6
         },
         "mode": "lines",
         "name": "Line 4-5",
         "type": "scatter3d",
         "x": [
          624.0274179314628,
          603.2468298410139
         ],
         "y": [
          443.5128786241368,
          545.7044719172926
         ],
         "z": [
          34.6727677832354,
          -88.15595398834114
         ]
        },
        {
         "line": {
          "color": "#1ABC9C",
          "width": 6
         },
         "mode": "lines",
         "name": "Line 4-6",
         "type": "scatter3d",
         "x": [
          624.0274179314628,
          542.6767417472478
         ],
         "y": [
          443.5128786241368,
          515.6315912836311
         ],
         "z": [
          34.6727677832354,
          -95.8345050436389
         ]
        },
        {
         "line": {
          "color": "#E74C3C",
          "width": 6
         },
         "mode": "lines",
         "name": "Line 4-7",
         "type": "scatter3d",
         "x": [
          624.0274179314628,
          714.1692396830109
         ],
         "y": [
          443.5128786241368,
          409.635125319758
         ],
         "z": [
          34.6727677832354,
          -122.43713096522734
         ]
        },
        {
         "line": {
          "color": "#8E44AD",
          "width": 6
         },
         "mode": "lines",
         "name": "Line 4-8",
         "type": "scatter3d",
         "x": [
          624.0274179314628,
          626.4918421637683
         ],
         "y": [
          443.5128786241368,
          340.03809808365554
         ],
         "z": [
          34.6727677832354,
          -114.05442177791892
         ]
        },
        {
         "line": {
          "color": "#2ECC71",
          "width": 6
         },
         "mode": "lines",
         "name": "Line 4-9",
         "type": "scatter3d",
         "x": [
          624.0274179314628,
          711.6624605520601
         ],
         "y": [
          443.5128786241368,
          283.9600238426166
         ],
         "z": [
          34.6727677832354,
          -29.50965316615754
         ]
        },
        {
         "line": {
          "color": "#3498DB",
          "width": 6
         },
         "mode": "lines",
         "name": "Line 9-10",
         "type": "scatter3d",
         "x": [
          711.6624605520601,
          783.2692548463522
         ],
         "y": [
          283.9600238426166,
          124.3372638596377
         ],
         "z": [
          -29.50965316615754,
          -23.760687798031736
         ]
        },
        {
         "line": {
          "color": "#F39C12",
          "width": 6
         },
         "mode": "lines",
         "name": "Line 10-11",
         "type": "scatter3d",
         "x": [
          783.2692548463522,
          840.7445345087659
         ],
         "y": [
          124.3372638596377,
          -98.32494541965386
         ],
         "z": [
          -23.760687798031736,
          -45.14684447978915
         ]
        }
       ],
       "layout": {
        "scene": {
         "aspectmode": "cube",
         "bgcolor": "rgba(0, 0, 0, 0)",
         "xaxis": {
          "backgroundcolor": "rgba(169, 169, 169, 0.6)",
          "linecolor": "black",
          "linewidth": 4,
          "range": [
           199.6714818488864,
           1140.7445345087658
          ],
          "showgrid": false,
          "showline": true,
          "showticklabels": false,
          "title": {
           "text": "X"
          }
         },
         "yaxis": {
          "backgroundcolor": "rgba(169, 169, 169, 0.6)",
          "linecolor": "black",
          "linewidth": 4,
          "range": [
           -398.3249454196539,
           958.4661945465351
          ],
          "showgrid": false,
          "showline": true,
          "showticklabels": false,
          "title": {
           "text": "Y"
          }
         },
         "zaxis": {
          "backgroundcolor": "rgba(169, 169, 169, 0.6)",
          "linecolor": "black",
          "linewidth": 4,
          "range": [
           -422.4371309652273,
           374.20268475056275
          ],
          "showgrid": false,
          "showline": true,
          "showticklabels": false,
          "title": {
           "text": "Z"
          }
         }
        },
        "showlegend": true,
        "template": {
         "data": {
          "bar": [
           {
            "error_x": {
             "color": "#2a3f5f"
            },
            "error_y": {
             "color": "#2a3f5f"
            },
            "marker": {
             "line": {
              "color": "#E5ECF6",
              "width": 0.5
             },
             "pattern": {
              "fillmode": "overlay",
              "size": 10,
              "solidity": 0.2
             }
            },
            "type": "bar"
           }
          ],
          "barpolar": [
           {
            "marker": {
             "line": {
              "color": "#E5ECF6",
              "width": 0.5
             },
             "pattern": {
              "fillmode": "overlay",
              "size": 10,
              "solidity": 0.2
             }
            },
            "type": "barpolar"
           }
          ],
          "carpet": [
           {
            "aaxis": {
             "endlinecolor": "#2a3f5f",
             "gridcolor": "white",
             "linecolor": "white",
             "minorgridcolor": "white",
             "startlinecolor": "#2a3f5f"
            },
            "baxis": {
             "endlinecolor": "#2a3f5f",
             "gridcolor": "white",
             "linecolor": "white",
             "minorgridcolor": "white",
             "startlinecolor": "#2a3f5f"
            },
            "type": "carpet"
           }
          ],
          "choropleth": [
           {
            "colorbar": {
             "outlinewidth": 0,
             "ticks": ""
            },
            "type": "choropleth"
           }
          ],
          "contour": [
           {
            "colorbar": {
             "outlinewidth": 0,
             "ticks": ""
            },
            "colorscale": [
             [
              0,
              "#0d0887"
             ],
             [
              0.1111111111111111,
              "#46039f"
             ],
             [
              0.2222222222222222,
              "#7201a8"
             ],
             [
              0.3333333333333333,
              "#9c179e"
             ],
             [
              0.4444444444444444,
              "#bd3786"
             ],
             [
              0.5555555555555556,
              "#d8576b"
             ],
             [
              0.6666666666666666,
              "#ed7953"
             ],
             [
              0.7777777777777778,
              "#fb9f3a"
             ],
             [
              0.8888888888888888,
              "#fdca26"
             ],
             [
              1,
              "#f0f921"
             ]
            ],
            "type": "contour"
           }
          ],
          "contourcarpet": [
           {
            "colorbar": {
             "outlinewidth": 0,
             "ticks": ""
            },
            "type": "contourcarpet"
           }
          ],
          "heatmap": [
           {
            "colorbar": {
             "outlinewidth": 0,
             "ticks": ""
            },
            "colorscale": [
             [
              0,
              "#0d0887"
             ],
             [
              0.1111111111111111,
              "#46039f"
             ],
             [
              0.2222222222222222,
              "#7201a8"
             ],
             [
              0.3333333333333333,
              "#9c179e"
             ],
             [
              0.4444444444444444,
              "#bd3786"
             ],
             [
              0.5555555555555556,
              "#d8576b"
             ],
             [
              0.6666666666666666,
              "#ed7953"
             ],
             [
              0.7777777777777778,
              "#fb9f3a"
             ],
             [
              0.8888888888888888,
              "#fdca26"
             ],
             [
              1,
              "#f0f921"
             ]
            ],
            "type": "heatmap"
           }
          ],
          "heatmapgl": [
           {
            "colorbar": {
             "outlinewidth": 0,
             "ticks": ""
            },
            "colorscale": [
             [
              0,
              "#0d0887"
             ],
             [
              0.1111111111111111,
              "#46039f"
             ],
             [
              0.2222222222222222,
              "#7201a8"
             ],
             [
              0.3333333333333333,
              "#9c179e"
             ],
             [
              0.4444444444444444,
              "#bd3786"
             ],
             [
              0.5555555555555556,
              "#d8576b"
             ],
             [
              0.6666666666666666,
              "#ed7953"
             ],
             [
              0.7777777777777778,
              "#fb9f3a"
             ],
             [
              0.8888888888888888,
              "#fdca26"
             ],
             [
              1,
              "#f0f921"
             ]
            ],
            "type": "heatmapgl"
           }
          ],
          "histogram": [
           {
            "marker": {
             "pattern": {
              "fillmode": "overlay",
              "size": 10,
              "solidity": 0.2
             }
            },
            "type": "histogram"
           }
          ],
          "histogram2d": [
           {
            "colorbar": {
             "outlinewidth": 0,
             "ticks": ""
            },
            "colorscale": [
             [
              0,
              "#0d0887"
             ],
             [
              0.1111111111111111,
              "#46039f"
             ],
             [
              0.2222222222222222,
              "#7201a8"
             ],
             [
              0.3333333333333333,
              "#9c179e"
             ],
             [
              0.4444444444444444,
              "#bd3786"
             ],
             [
              0.5555555555555556,
              "#d8576b"
             ],
             [
              0.6666666666666666,
              "#ed7953"
             ],
             [
              0.7777777777777778,
              "#fb9f3a"
             ],
             [
              0.8888888888888888,
              "#fdca26"
             ],
             [
              1,
              "#f0f921"
             ]
            ],
            "type": "histogram2d"
           }
          ],
          "histogram2dcontour": [
           {
            "colorbar": {
             "outlinewidth": 0,
             "ticks": ""
            },
            "colorscale": [
             [
              0,
              "#0d0887"
             ],
             [
              0.1111111111111111,
              "#46039f"
             ],
             [
              0.2222222222222222,
              "#7201a8"
             ],
             [
              0.3333333333333333,
              "#9c179e"
             ],
             [
              0.4444444444444444,
              "#bd3786"
             ],
             [
              0.5555555555555556,
              "#d8576b"
             ],
             [
              0.6666666666666666,
              "#ed7953"
             ],
             [
              0.7777777777777778,
              "#fb9f3a"
             ],
             [
              0.8888888888888888,
              "#fdca26"
             ],
             [
              1,
              "#f0f921"
             ]
            ],
            "type": "histogram2dcontour"
           }
          ],
          "mesh3d": [
           {
            "colorbar": {
             "outlinewidth": 0,
             "ticks": ""
            },
            "type": "mesh3d"
           }
          ],
          "parcoords": [
           {
            "line": {
             "colorbar": {
              "outlinewidth": 0,
              "ticks": ""
             }
            },
            "type": "parcoords"
           }
          ],
          "pie": [
           {
            "automargin": true,
            "type": "pie"
           }
          ],
          "scatter": [
           {
            "fillpattern": {
             "fillmode": "overlay",
             "size": 10,
             "solidity": 0.2
            },
            "type": "scatter"
           }
          ],
          "scatter3d": [
           {
            "line": {
             "colorbar": {
              "outlinewidth": 0,
              "ticks": ""
             }
            },
            "marker": {
             "colorbar": {
              "outlinewidth": 0,
              "ticks": ""
             }
            },
            "type": "scatter3d"
           }
          ],
          "scattercarpet": [
           {
            "marker": {
             "colorbar": {
              "outlinewidth": 0,
              "ticks": ""
             }
            },
            "type": "scattercarpet"
           }
          ],
          "scattergeo": [
           {
            "marker": {
             "colorbar": {
              "outlinewidth": 0,
              "ticks": ""
             }
            },
            "type": "scattergeo"
           }
          ],
          "scattergl": [
           {
            "marker": {
             "colorbar": {
              "outlinewidth": 0,
              "ticks": ""
             }
            },
            "type": "scattergl"
           }
          ],
          "scattermapbox": [
           {
            "marker": {
             "colorbar": {
              "outlinewidth": 0,
              "ticks": ""
             }
            },
            "type": "scattermapbox"
           }
          ],
          "scatterpolar": [
           {
            "marker": {
             "colorbar": {
              "outlinewidth": 0,
              "ticks": ""
             }
            },
            "type": "scatterpolar"
           }
          ],
          "scatterpolargl": [
           {
            "marker": {
             "colorbar": {
              "outlinewidth": 0,
              "ticks": ""
             }
            },
            "type": "scatterpolargl"
           }
          ],
          "scatterternary": [
           {
            "marker": {
             "colorbar": {
              "outlinewidth": 0,
              "ticks": ""
             }
            },
            "type": "scatterternary"
           }
          ],
          "surface": [
           {
            "colorbar": {
             "outlinewidth": 0,
             "ticks": ""
            },
            "colorscale": [
             [
              0,
              "#0d0887"
             ],
             [
              0.1111111111111111,
              "#46039f"
             ],
             [
              0.2222222222222222,
              "#7201a8"
             ],
             [
              0.3333333333333333,
              "#9c179e"
             ],
             [
              0.4444444444444444,
              "#bd3786"
             ],
             [
              0.5555555555555556,
              "#d8576b"
             ],
             [
              0.6666666666666666,
              "#ed7953"
             ],
             [
              0.7777777777777778,
              "#fb9f3a"
             ],
             [
              0.8888888888888888,
              "#fdca26"
             ],
             [
              1,
              "#f0f921"
             ]
            ],
            "type": "surface"
           }
          ],
          "table": [
           {
            "cells": {
             "fill": {
              "color": "#EBF0F8"
             },
             "line": {
              "color": "white"
             }
            },
            "header": {
             "fill": {
              "color": "#C8D4E3"
             },
             "line": {
              "color": "white"
             }
            },
            "type": "table"
           }
          ]
         },
         "layout": {
          "annotationdefaults": {
           "arrowcolor": "#2a3f5f",
           "arrowhead": 0,
           "arrowwidth": 1
          },
          "autotypenumbers": "strict",
          "coloraxis": {
           "colorbar": {
            "outlinewidth": 0,
            "ticks": ""
           }
          },
          "colorscale": {
           "diverging": [
            [
             0,
             "#8e0152"
            ],
            [
             0.1,
             "#c51b7d"
            ],
            [
             0.2,
             "#de77ae"
            ],
            [
             0.3,
             "#f1b6da"
            ],
            [
             0.4,
             "#fde0ef"
            ],
            [
             0.5,
             "#f7f7f7"
            ],
            [
             0.6,
             "#e6f5d0"
            ],
            [
             0.7,
             "#b8e186"
            ],
            [
             0.8,
             "#7fbc41"
            ],
            [
             0.9,
             "#4d9221"
            ],
            [
             1,
             "#276419"
            ]
           ],
           "sequential": [
            [
             0,
             "#0d0887"
            ],
            [
             0.1111111111111111,
             "#46039f"
            ],
            [
             0.2222222222222222,
             "#7201a8"
            ],
            [
             0.3333333333333333,
             "#9c179e"
            ],
            [
             0.4444444444444444,
             "#bd3786"
            ],
            [
             0.5555555555555556,
             "#d8576b"
            ],
            [
             0.6666666666666666,
             "#ed7953"
            ],
            [
             0.7777777777777778,
             "#fb9f3a"
            ],
            [
             0.8888888888888888,
             "#fdca26"
            ],
            [
             1,
             "#f0f921"
            ]
           ],
           "sequentialminus": [
            [
             0,
             "#0d0887"
            ],
            [
             0.1111111111111111,
             "#46039f"
            ],
            [
             0.2222222222222222,
             "#7201a8"
            ],
            [
             0.3333333333333333,
             "#9c179e"
            ],
            [
             0.4444444444444444,
             "#bd3786"
            ],
            [
             0.5555555555555556,
             "#d8576b"
            ],
            [
             0.6666666666666666,
             "#ed7953"
            ],
            [
             0.7777777777777778,
             "#fb9f3a"
            ],
            [
             0.8888888888888888,
             "#fdca26"
            ],
            [
             1,
             "#f0f921"
            ]
           ]
          },
          "colorway": [
           "#636efa",
           "#EF553B",
           "#00cc96",
           "#ab63fa",
           "#FFA15A",
           "#19d3f3",
           "#FF6692",
           "#B6E880",
           "#FF97FF",
           "#FECB52"
          ],
          "font": {
           "color": "#2a3f5f"
          },
          "geo": {
           "bgcolor": "white",
           "lakecolor": "white",
           "landcolor": "#E5ECF6",
           "showlakes": true,
           "showland": true,
           "subunitcolor": "white"
          },
          "hoverlabel": {
           "align": "left"
          },
          "hovermode": "closest",
          "mapbox": {
           "style": "light"
          },
          "paper_bgcolor": "white",
          "plot_bgcolor": "#E5ECF6",
          "polar": {
           "angularaxis": {
            "gridcolor": "white",
            "linecolor": "white",
            "ticks": ""
           },
           "bgcolor": "#E5ECF6",
           "radialaxis": {
            "gridcolor": "white",
            "linecolor": "white",
            "ticks": ""
           }
          },
          "scene": {
           "xaxis": {
            "backgroundcolor": "#E5ECF6",
            "gridcolor": "white",
            "gridwidth": 2,
            "linecolor": "white",
            "showbackground": true,
            "ticks": "",
            "zerolinecolor": "white"
           },
           "yaxis": {
            "backgroundcolor": "#E5ECF6",
            "gridcolor": "white",
            "gridwidth": 2,
            "linecolor": "white",
            "showbackground": true,
            "ticks": "",
            "zerolinecolor": "white"
           },
           "zaxis": {
            "backgroundcolor": "#E5ECF6",
            "gridcolor": "white",
            "gridwidth": 2,
            "linecolor": "white",
            "showbackground": true,
            "ticks": "",
            "zerolinecolor": "white"
           }
          },
          "shapedefaults": {
           "line": {
            "color": "#2a3f5f"
           }
          },
          "ternary": {
           "aaxis": {
            "gridcolor": "white",
            "linecolor": "white",
            "ticks": ""
           },
           "baxis": {
            "gridcolor": "white",
            "linecolor": "white",
            "ticks": ""
           },
           "bgcolor": "#E5ECF6",
           "caxis": {
            "gridcolor": "white",
            "linecolor": "white",
            "ticks": ""
           }
          },
          "title": {
           "x": 0.05
          },
          "xaxis": {
           "automargin": true,
           "gridcolor": "white",
           "linecolor": "white",
           "ticks": "",
           "title": {
            "standoff": 15
           },
           "zerolinecolor": "white",
           "zerolinewidth": 2
          },
          "yaxis": {
           "automargin": true,
           "gridcolor": "white",
           "linecolor": "white",
           "ticks": "",
           "title": {
            "standoff": 15
           },
           "zerolinecolor": "white",
           "zerolinewidth": 2
          }
         }
        },
        "title": {
         "text": "Frame 364814"
        }
       }
      }
     },
     "metadata": {},
     "output_type": "display_data"
    },
    {
     "data": {
      "application/vnd.plotly.v1+json": {
       "config": {
        "plotlyServerURL": "https://plot.ly"
       },
       "data": [
        {
         "marker": {
          "color": "black",
          "size": 2
         },
         "mode": "markers",
         "name": "Keypoints",
         "type": "scatter3d",
         "x": [
          473.514819448639,
          562.6735838366105,
          485.9719084005706,
          596.106910011953,
          578.3271881148465,
          516.1227093632031,
          687.1659514231327,
          598.0352382907384,
          684.7215950099304,
          759.3212677957474,
          830.1015635238431,
          524.3227461185905
         ],
         "y": [
          700.3547816214757,
          634.3912484481796,
          579.0038198281893,
          485.96779306199966,
          586.8876701096133,
          556.9300552442185,
          451.5907330502639,
          383.0097609984293,
          325.30990016043484,
          170.96182517927014,
          -51.67243591922178,
          606.6975341381844
         ],
         "z": [
          -12.264571806160356,
          72.30810084210286,
          75.43511707937526,
          32.89071639114293,
          -86.37763455961519,
          -95.27511964803703,
          -124.01607312775089,
          -115.61844272291424,
          -29.8406078413327,
          -20.72898834496904,
          -34.706175945154214,
          73.87160896073905
         ]
        },
        {
         "line": {
          "color": "#FF5733",
          "width": 6
         },
         "mode": "lines",
         "name": "Line 1-2",
         "type": "scatter3d",
         "x": [
          473.514819448639,
          562.6735838366105
         ],
         "y": [
          700.3547816214757,
          634.3912484481796
         ],
         "z": [
          -12.264571806160356,
          72.30810084210286
         ]
        },
        {
         "line": {
          "color": "#33FF57",
          "width": 6
         },
         "mode": "lines",
         "name": "Line 1-3",
         "type": "scatter3d",
         "x": [
          473.514819448639,
          485.9719084005706
         ],
         "y": [
          700.3547816214757,
          579.0038198281893
         ],
         "z": [
          -12.264571806160356,
          75.43511707937526
         ]
        },
        {
         "line": {
          "color": "#3357FF",
          "width": 6
         },
         "mode": "lines",
         "name": "Line 2-3",
         "type": "scatter3d",
         "x": [
          562.6735838366105,
          485.9719084005706
         ],
         "y": [
          634.3912484481796,
          579.0038198281893
         ],
         "z": [
          72.30810084210286,
          75.43511707937526
         ]
        },
        {
         "line": {
          "color": "#F1C40F",
          "width": 6
         },
         "mode": "lines",
         "name": "Line 4-12",
         "type": "scatter3d",
         "x": [
          596.106910011953,
          524.3227461185905
         ],
         "y": [
          485.96779306199966,
          606.6975341381844
         ],
         "z": [
          32.89071639114293,
          73.87160896073905
         ]
        },
        {
         "line": {
          "color": "#9B59B6",
          "width": 6
         },
         "mode": "lines",
         "name": "Line 4-5",
         "type": "scatter3d",
         "x": [
          596.106910011953,
          578.3271881148465
         ],
         "y": [
          485.96779306199966,
          586.8876701096133
         ],
         "z": [
          32.89071639114293,
          -86.37763455961519
         ]
        },
        {
         "line": {
          "color": "#1ABC9C",
          "width": 6
         },
         "mode": "lines",
         "name": "Line 4-6",
         "type": "scatter3d",
         "x": [
          596.106910011953,
          516.1227093632031
         ],
         "y": [
          485.96779306199966,
          556.9300552442185
         ],
         "z": [
          32.89071639114293,
          -95.27511964803703
         ]
        },
        {
         "line": {
          "color": "#E74C3C",
          "width": 6
         },
         "mode": "lines",
         "name": "Line 4-7",
         "type": "scatter3d",
         "x": [
          596.106910011953,
          687.1659514231327
         ],
         "y": [
          485.96779306199966,
          451.5907330502639
         ],
         "z": [
          32.89071639114293,
          -124.01607312775089
         ]
        },
        {
         "line": {
          "color": "#8E44AD",
          "width": 6
         },
         "mode": "lines",
         "name": "Line 4-8",
         "type": "scatter3d",
         "x": [
          596.106910011953,
          598.0352382907384
         ],
         "y": [
          485.96779306199966,
          383.0097609984293
         ],
         "z": [
          32.89071639114293,
          -115.61844272291424
         ]
        },
        {
         "line": {
          "color": "#2ECC71",
          "width": 6
         },
         "mode": "lines",
         "name": "Line 4-9",
         "type": "scatter3d",
         "x": [
          596.106910011953,
          684.7215950099304
         ],
         "y": [
          485.96779306199966,
          325.30990016043484
         ],
         "z": [
          32.89071639114293,
          -29.8406078413327
         ]
        },
        {
         "line": {
          "color": "#3498DB",
          "width": 6
         },
         "mode": "lines",
         "name": "Line 9-10",
         "type": "scatter3d",
         "x": [
          684.7215950099304,
          759.3212677957474
         ],
         "y": [
          325.30990016043484,
          170.96182517927014
         ],
         "z": [
          -29.8406078413327,
          -20.72898834496904
         ]
        },
        {
         "line": {
          "color": "#F39C12",
          "width": 6
         },
         "mode": "lines",
         "name": "Line 10-11",
         "type": "scatter3d",
         "x": [
          759.3212677957474,
          830.1015635238431
         ],
         "y": [
          170.96182517927014,
          -51.67243591922178
         ],
         "z": [
          -20.72898834496904,
          -34.706175945154214
         ]
        }
       ],
       "layout": {
        "scene": {
         "aspectmode": "cube",
         "bgcolor": "rgba(0, 0, 0, 0)",
         "xaxis": {
          "backgroundcolor": "rgba(169, 169, 169, 0.6)",
          "linecolor": "black",
          "linewidth": 4,
          "range": [
           173.514819448639,
           1130.1015635238432
          ],
          "showgrid": false,
          "showline": true,
          "showticklabels": false,
          "title": {
           "text": "X"
          }
         },
         "yaxis": {
          "backgroundcolor": "rgba(169, 169, 169, 0.6)",
          "linecolor": "black",
          "linewidth": 4,
          "range": [
           -351.6724359192218,
           1000.3547816214757
          ],
          "showgrid": false,
          "showline": true,
          "showticklabels": false,
          "title": {
           "text": "Y"
          }
         },
         "zaxis": {
          "backgroundcolor": "rgba(169, 169, 169, 0.6)",
          "linecolor": "black",
          "linewidth": 4,
          "range": [
           -424.0160731277509,
           375.43511707937523
          ],
          "showgrid": false,
          "showline": true,
          "showticklabels": false,
          "title": {
           "text": "Z"
          }
         }
        },
        "showlegend": true,
        "template": {
         "data": {
          "bar": [
           {
            "error_x": {
             "color": "#2a3f5f"
            },
            "error_y": {
             "color": "#2a3f5f"
            },
            "marker": {
             "line": {
              "color": "#E5ECF6",
              "width": 0.5
             },
             "pattern": {
              "fillmode": "overlay",
              "size": 10,
              "solidity": 0.2
             }
            },
            "type": "bar"
           }
          ],
          "barpolar": [
           {
            "marker": {
             "line": {
              "color": "#E5ECF6",
              "width": 0.5
             },
             "pattern": {
              "fillmode": "overlay",
              "size": 10,
              "solidity": 0.2
             }
            },
            "type": "barpolar"
           }
          ],
          "carpet": [
           {
            "aaxis": {
             "endlinecolor": "#2a3f5f",
             "gridcolor": "white",
             "linecolor": "white",
             "minorgridcolor": "white",
             "startlinecolor": "#2a3f5f"
            },
            "baxis": {
             "endlinecolor": "#2a3f5f",
             "gridcolor": "white",
             "linecolor": "white",
             "minorgridcolor": "white",
             "startlinecolor": "#2a3f5f"
            },
            "type": "carpet"
           }
          ],
          "choropleth": [
           {
            "colorbar": {
             "outlinewidth": 0,
             "ticks": ""
            },
            "type": "choropleth"
           }
          ],
          "contour": [
           {
            "colorbar": {
             "outlinewidth": 0,
             "ticks": ""
            },
            "colorscale": [
             [
              0,
              "#0d0887"
             ],
             [
              0.1111111111111111,
              "#46039f"
             ],
             [
              0.2222222222222222,
              "#7201a8"
             ],
             [
              0.3333333333333333,
              "#9c179e"
             ],
             [
              0.4444444444444444,
              "#bd3786"
             ],
             [
              0.5555555555555556,
              "#d8576b"
             ],
             [
              0.6666666666666666,
              "#ed7953"
             ],
             [
              0.7777777777777778,
              "#fb9f3a"
             ],
             [
              0.8888888888888888,
              "#fdca26"
             ],
             [
              1,
              "#f0f921"
             ]
            ],
            "type": "contour"
           }
          ],
          "contourcarpet": [
           {
            "colorbar": {
             "outlinewidth": 0,
             "ticks": ""
            },
            "type": "contourcarpet"
           }
          ],
          "heatmap": [
           {
            "colorbar": {
             "outlinewidth": 0,
             "ticks": ""
            },
            "colorscale": [
             [
              0,
              "#0d0887"
             ],
             [
              0.1111111111111111,
              "#46039f"
             ],
             [
              0.2222222222222222,
              "#7201a8"
             ],
             [
              0.3333333333333333,
              "#9c179e"
             ],
             [
              0.4444444444444444,
              "#bd3786"
             ],
             [
              0.5555555555555556,
              "#d8576b"
             ],
             [
              0.6666666666666666,
              "#ed7953"
             ],
             [
              0.7777777777777778,
              "#fb9f3a"
             ],
             [
              0.8888888888888888,
              "#fdca26"
             ],
             [
              1,
              "#f0f921"
             ]
            ],
            "type": "heatmap"
           }
          ],
          "heatmapgl": [
           {
            "colorbar": {
             "outlinewidth": 0,
             "ticks": ""
            },
            "colorscale": [
             [
              0,
              "#0d0887"
             ],
             [
              0.1111111111111111,
              "#46039f"
             ],
             [
              0.2222222222222222,
              "#7201a8"
             ],
             [
              0.3333333333333333,
              "#9c179e"
             ],
             [
              0.4444444444444444,
              "#bd3786"
             ],
             [
              0.5555555555555556,
              "#d8576b"
             ],
             [
              0.6666666666666666,
              "#ed7953"
             ],
             [
              0.7777777777777778,
              "#fb9f3a"
             ],
             [
              0.8888888888888888,
              "#fdca26"
             ],
             [
              1,
              "#f0f921"
             ]
            ],
            "type": "heatmapgl"
           }
          ],
          "histogram": [
           {
            "marker": {
             "pattern": {
              "fillmode": "overlay",
              "size": 10,
              "solidity": 0.2
             }
            },
            "type": "histogram"
           }
          ],
          "histogram2d": [
           {
            "colorbar": {
             "outlinewidth": 0,
             "ticks": ""
            },
            "colorscale": [
             [
              0,
              "#0d0887"
             ],
             [
              0.1111111111111111,
              "#46039f"
             ],
             [
              0.2222222222222222,
              "#7201a8"
             ],
             [
              0.3333333333333333,
              "#9c179e"
             ],
             [
              0.4444444444444444,
              "#bd3786"
             ],
             [
              0.5555555555555556,
              "#d8576b"
             ],
             [
              0.6666666666666666,
              "#ed7953"
             ],
             [
              0.7777777777777778,
              "#fb9f3a"
             ],
             [
              0.8888888888888888,
              "#fdca26"
             ],
             [
              1,
              "#f0f921"
             ]
            ],
            "type": "histogram2d"
           }
          ],
          "histogram2dcontour": [
           {
            "colorbar": {
             "outlinewidth": 0,
             "ticks": ""
            },
            "colorscale": [
             [
              0,
              "#0d0887"
             ],
             [
              0.1111111111111111,
              "#46039f"
             ],
             [
              0.2222222222222222,
              "#7201a8"
             ],
             [
              0.3333333333333333,
              "#9c179e"
             ],
             [
              0.4444444444444444,
              "#bd3786"
             ],
             [
              0.5555555555555556,
              "#d8576b"
             ],
             [
              0.6666666666666666,
              "#ed7953"
             ],
             [
              0.7777777777777778,
              "#fb9f3a"
             ],
             [
              0.8888888888888888,
              "#fdca26"
             ],
             [
              1,
              "#f0f921"
             ]
            ],
            "type": "histogram2dcontour"
           }
          ],
          "mesh3d": [
           {
            "colorbar": {
             "outlinewidth": 0,
             "ticks": ""
            },
            "type": "mesh3d"
           }
          ],
          "parcoords": [
           {
            "line": {
             "colorbar": {
              "outlinewidth": 0,
              "ticks": ""
             }
            },
            "type": "parcoords"
           }
          ],
          "pie": [
           {
            "automargin": true,
            "type": "pie"
           }
          ],
          "scatter": [
           {
            "fillpattern": {
             "fillmode": "overlay",
             "size": 10,
             "solidity": 0.2
            },
            "type": "scatter"
           }
          ],
          "scatter3d": [
           {
            "line": {
             "colorbar": {
              "outlinewidth": 0,
              "ticks": ""
             }
            },
            "marker": {
             "colorbar": {
              "outlinewidth": 0,
              "ticks": ""
             }
            },
            "type": "scatter3d"
           }
          ],
          "scattercarpet": [
           {
            "marker": {
             "colorbar": {
              "outlinewidth": 0,
              "ticks": ""
             }
            },
            "type": "scattercarpet"
           }
          ],
          "scattergeo": [
           {
            "marker": {
             "colorbar": {
              "outlinewidth": 0,
              "ticks": ""
             }
            },
            "type": "scattergeo"
           }
          ],
          "scattergl": [
           {
            "marker": {
             "colorbar": {
              "outlinewidth": 0,
              "ticks": ""
             }
            },
            "type": "scattergl"
           }
          ],
          "scattermapbox": [
           {
            "marker": {
             "colorbar": {
              "outlinewidth": 0,
              "ticks": ""
             }
            },
            "type": "scattermapbox"
           }
          ],
          "scatterpolar": [
           {
            "marker": {
             "colorbar": {
              "outlinewidth": 0,
              "ticks": ""
             }
            },
            "type": "scatterpolar"
           }
          ],
          "scatterpolargl": [
           {
            "marker": {
             "colorbar": {
              "outlinewidth": 0,
              "ticks": ""
             }
            },
            "type": "scatterpolargl"
           }
          ],
          "scatterternary": [
           {
            "marker": {
             "colorbar": {
              "outlinewidth": 0,
              "ticks": ""
             }
            },
            "type": "scatterternary"
           }
          ],
          "surface": [
           {
            "colorbar": {
             "outlinewidth": 0,
             "ticks": ""
            },
            "colorscale": [
             [
              0,
              "#0d0887"
             ],
             [
              0.1111111111111111,
              "#46039f"
             ],
             [
              0.2222222222222222,
              "#7201a8"
             ],
             [
              0.3333333333333333,
              "#9c179e"
             ],
             [
              0.4444444444444444,
              "#bd3786"
             ],
             [
              0.5555555555555556,
              "#d8576b"
             ],
             [
              0.6666666666666666,
              "#ed7953"
             ],
             [
              0.7777777777777778,
              "#fb9f3a"
             ],
             [
              0.8888888888888888,
              "#fdca26"
             ],
             [
              1,
              "#f0f921"
             ]
            ],
            "type": "surface"
           }
          ],
          "table": [
           {
            "cells": {
             "fill": {
              "color": "#EBF0F8"
             },
             "line": {
              "color": "white"
             }
            },
            "header": {
             "fill": {
              "color": "#C8D4E3"
             },
             "line": {
              "color": "white"
             }
            },
            "type": "table"
           }
          ]
         },
         "layout": {
          "annotationdefaults": {
           "arrowcolor": "#2a3f5f",
           "arrowhead": 0,
           "arrowwidth": 1
          },
          "autotypenumbers": "strict",
          "coloraxis": {
           "colorbar": {
            "outlinewidth": 0,
            "ticks": ""
           }
          },
          "colorscale": {
           "diverging": [
            [
             0,
             "#8e0152"
            ],
            [
             0.1,
             "#c51b7d"
            ],
            [
             0.2,
             "#de77ae"
            ],
            [
             0.3,
             "#f1b6da"
            ],
            [
             0.4,
             "#fde0ef"
            ],
            [
             0.5,
             "#f7f7f7"
            ],
            [
             0.6,
             "#e6f5d0"
            ],
            [
             0.7,
             "#b8e186"
            ],
            [
             0.8,
             "#7fbc41"
            ],
            [
             0.9,
             "#4d9221"
            ],
            [
             1,
             "#276419"
            ]
           ],
           "sequential": [
            [
             0,
             "#0d0887"
            ],
            [
             0.1111111111111111,
             "#46039f"
            ],
            [
             0.2222222222222222,
             "#7201a8"
            ],
            [
             0.3333333333333333,
             "#9c179e"
            ],
            [
             0.4444444444444444,
             "#bd3786"
            ],
            [
             0.5555555555555556,
             "#d8576b"
            ],
            [
             0.6666666666666666,
             "#ed7953"
            ],
            [
             0.7777777777777778,
             "#fb9f3a"
            ],
            [
             0.8888888888888888,
             "#fdca26"
            ],
            [
             1,
             "#f0f921"
            ]
           ],
           "sequentialminus": [
            [
             0,
             "#0d0887"
            ],
            [
             0.1111111111111111,
             "#46039f"
            ],
            [
             0.2222222222222222,
             "#7201a8"
            ],
            [
             0.3333333333333333,
             "#9c179e"
            ],
            [
             0.4444444444444444,
             "#bd3786"
            ],
            [
             0.5555555555555556,
             "#d8576b"
            ],
            [
             0.6666666666666666,
             "#ed7953"
            ],
            [
             0.7777777777777778,
             "#fb9f3a"
            ],
            [
             0.8888888888888888,
             "#fdca26"
            ],
            [
             1,
             "#f0f921"
            ]
           ]
          },
          "colorway": [
           "#636efa",
           "#EF553B",
           "#00cc96",
           "#ab63fa",
           "#FFA15A",
           "#19d3f3",
           "#FF6692",
           "#B6E880",
           "#FF97FF",
           "#FECB52"
          ],
          "font": {
           "color": "#2a3f5f"
          },
          "geo": {
           "bgcolor": "white",
           "lakecolor": "white",
           "landcolor": "#E5ECF6",
           "showlakes": true,
           "showland": true,
           "subunitcolor": "white"
          },
          "hoverlabel": {
           "align": "left"
          },
          "hovermode": "closest",
          "mapbox": {
           "style": "light"
          },
          "paper_bgcolor": "white",
          "plot_bgcolor": "#E5ECF6",
          "polar": {
           "angularaxis": {
            "gridcolor": "white",
            "linecolor": "white",
            "ticks": ""
           },
           "bgcolor": "#E5ECF6",
           "radialaxis": {
            "gridcolor": "white",
            "linecolor": "white",
            "ticks": ""
           }
          },
          "scene": {
           "xaxis": {
            "backgroundcolor": "#E5ECF6",
            "gridcolor": "white",
            "gridwidth": 2,
            "linecolor": "white",
            "showbackground": true,
            "ticks": "",
            "zerolinecolor": "white"
           },
           "yaxis": {
            "backgroundcolor": "#E5ECF6",
            "gridcolor": "white",
            "gridwidth": 2,
            "linecolor": "white",
            "showbackground": true,
            "ticks": "",
            "zerolinecolor": "white"
           },
           "zaxis": {
            "backgroundcolor": "#E5ECF6",
            "gridcolor": "white",
            "gridwidth": 2,
            "linecolor": "white",
            "showbackground": true,
            "ticks": "",
            "zerolinecolor": "white"
           }
          },
          "shapedefaults": {
           "line": {
            "color": "#2a3f5f"
           }
          },
          "ternary": {
           "aaxis": {
            "gridcolor": "white",
            "linecolor": "white",
            "ticks": ""
           },
           "baxis": {
            "gridcolor": "white",
            "linecolor": "white",
            "ticks": ""
           },
           "bgcolor": "#E5ECF6",
           "caxis": {
            "gridcolor": "white",
            "linecolor": "white",
            "ticks": ""
           }
          },
          "title": {
           "x": 0.05
          },
          "xaxis": {
           "automargin": true,
           "gridcolor": "white",
           "linecolor": "white",
           "ticks": "",
           "title": {
            "standoff": 15
           },
           "zerolinecolor": "white",
           "zerolinewidth": 2
          },
          "yaxis": {
           "automargin": true,
           "gridcolor": "white",
           "linecolor": "white",
           "ticks": "",
           "title": {
            "standoff": 15
           },
           "zerolinecolor": "white",
           "zerolinewidth": 2
          }
         }
        },
        "title": {
         "text": "Frame 364816"
        }
       }
      }
     },
     "metadata": {},
     "output_type": "display_data"
    },
    {
     "data": {
      "application/vnd.plotly.v1+json": {
       "config": {
        "plotlyServerURL": "https://plot.ly"
       },
       "data": [
        {
         "marker": {
          "color": "black",
          "size": 2
         },
         "mode": "markers",
         "name": "Keypoints",
         "type": "scatter3d",
         "x": [
          486.56940500613774,
          575.2035522715732,
          498.63645686742393,
          610.1147872425897,
          590.6630514494292,
          529.3987737199332,
          700.5943364117078,
          612.393117443519,
          698.2949402305686,
          771.5414587259688,
          835.3347141182428,
          536.9200045694986
         ],
         "y": [
          679.5394971397161,
          612.5273806763502,
          557.9451794943689,
          464.8706042185448,
          566.5266038440735,
          536.4819498586243,
          430.82210254125584,
          361.53526164556087,
          304.8103177836618,
          147.8137286425212,
          -74.88296008567849,
          585.2362800853596
         ],
         "z": [
          -14.59673432735045,
          71.35058204383908,
          74.73115425490076,
          33.76553391057142,
          -87.43352683699277,
          -95.65419506042326,
          -123.26422355264678,
          -114.87131994322816,
          -29.717042995016644,
          -22.63823652623534,
          -40.67158168812379,
          73.04086814936991
         ]
        },
        {
         "line": {
          "color": "#FF5733",
          "width": 6
         },
         "mode": "lines",
         "name": "Line 1-2",
         "type": "scatter3d",
         "x": [
          486.56940500613774,
          575.2035522715732
         ],
         "y": [
          679.5394971397161,
          612.5273806763502
         ],
         "z": [
          -14.59673432735045,
          71.35058204383908
         ]
        },
        {
         "line": {
          "color": "#33FF57",
          "width": 6
         },
         "mode": "lines",
         "name": "Line 1-3",
         "type": "scatter3d",
         "x": [
          486.56940500613774,
          498.63645686742393
         ],
         "y": [
          679.5394971397161,
          557.9451794943689
         ],
         "z": [
          -14.59673432735045,
          74.73115425490076
         ]
        },
        {
         "line": {
          "color": "#3357FF",
          "width": 6
         },
         "mode": "lines",
         "name": "Line 2-3",
         "type": "scatter3d",
         "x": [
          575.2035522715732,
          498.63645686742393
         ],
         "y": [
          612.5273806763502,
          557.9451794943689
         ],
         "z": [
          71.35058204383908,
          74.73115425490076
         ]
        },
        {
         "line": {
          "color": "#F1C40F",
          "width": 6
         },
         "mode": "lines",
         "name": "Line 4-12",
         "type": "scatter3d",
         "x": [
          610.1147872425897,
          536.9200045694986
         ],
         "y": [
          464.8706042185448,
          585.2362800853596
         ],
         "z": [
          33.76553391057142,
          73.04086814936991
         ]
        },
        {
         "line": {
          "color": "#9B59B6",
          "width": 6
         },
         "mode": "lines",
         "name": "Line 4-5",
         "type": "scatter3d",
         "x": [
          610.1147872425897,
          590.6630514494292
         ],
         "y": [
          464.8706042185448,
          566.5266038440735
         ],
         "z": [
          33.76553391057142,
          -87.43352683699277
         ]
        },
        {
         "line": {
          "color": "#1ABC9C",
          "width": 6
         },
         "mode": "lines",
         "name": "Line 4-6",
         "type": "scatter3d",
         "x": [
          610.1147872425897,
          529.3987737199332
         ],
         "y": [
          464.8706042185448,
          536.4819498586243
         ],
         "z": [
          33.76553391057142,
          -95.65419506042326
         ]
        },
        {
         "line": {
          "color": "#E74C3C",
          "width": 6
         },
         "mode": "lines",
         "name": "Line 4-7",
         "type": "scatter3d",
         "x": [
          610.1147872425897,
          700.5943364117078
         ],
         "y": [
          464.8706042185448,
          430.82210254125584
         ],
         "z": [
          33.76553391057142,
          -123.26422355264678
         ]
        },
        {
         "line": {
          "color": "#8E44AD",
          "width": 6
         },
         "mode": "lines",
         "name": "Line 4-8",
         "type": "scatter3d",
         "x": [
          610.1147872425897,
          612.393117443519
         ],
         "y": [
          464.8706042185448,
          361.53526164556087
         ],
         "z": [
          33.76553391057142,
          -114.87131994322816
         ]
        },
        {
         "line": {
          "color": "#2ECC71",
          "width": 6
         },
         "mode": "lines",
         "name": "Line 4-9",
         "type": "scatter3d",
         "x": [
          610.1147872425897,
          698.2949402305686
         ],
         "y": [
          464.8706042185448,
          304.8103177836618
         ],
         "z": [
          33.76553391057142,
          -29.717042995016644
         ]
        },
        {
         "line": {
          "color": "#3498DB",
          "width": 6
         },
         "mode": "lines",
         "name": "Line 9-10",
         "type": "scatter3d",
         "x": [
          698.2949402305686,
          771.5414587259688
         ],
         "y": [
          304.8103177836618,
          147.8137286425212
         ],
         "z": [
          -29.717042995016644,
          -22.63823652623534
         ]
        },
        {
         "line": {
          "color": "#F39C12",
          "width": 6
         },
         "mode": "lines",
         "name": "Line 10-11",
         "type": "scatter3d",
         "x": [
          771.5414587259688,
          835.3347141182428
         ],
         "y": [
          147.8137286425212,
          -74.88296008567849
         ],
         "z": [
          -22.63823652623534,
          -40.67158168812379
         ]
        }
       ],
       "layout": {
        "scene": {
         "aspectmode": "cube",
         "bgcolor": "rgba(0, 0, 0, 0)",
         "xaxis": {
          "backgroundcolor": "rgba(169, 169, 169, 0.6)",
          "linecolor": "black",
          "linewidth": 4,
          "range": [
           186.56940500613774,
           1135.3347141182428
          ],
          "showgrid": false,
          "showline": true,
          "showticklabels": false,
          "title": {
           "text": "X"
          }
         },
         "yaxis": {
          "backgroundcolor": "rgba(169, 169, 169, 0.6)",
          "linecolor": "black",
          "linewidth": 4,
          "range": [
           -374.8829600856785,
           979.5394971397161
          ],
          "showgrid": false,
          "showline": true,
          "showticklabels": false,
          "title": {
           "text": "Y"
          }
         },
         "zaxis": {
          "backgroundcolor": "rgba(169, 169, 169, 0.6)",
          "linecolor": "black",
          "linewidth": 4,
          "range": [
           -423.2642235526468,
           374.73115425490073
          ],
          "showgrid": false,
          "showline": true,
          "showticklabels": false,
          "title": {
           "text": "Z"
          }
         }
        },
        "showlegend": true,
        "template": {
         "data": {
          "bar": [
           {
            "error_x": {
             "color": "#2a3f5f"
            },
            "error_y": {
             "color": "#2a3f5f"
            },
            "marker": {
             "line": {
              "color": "#E5ECF6",
              "width": 0.5
             },
             "pattern": {
              "fillmode": "overlay",
              "size": 10,
              "solidity": 0.2
             }
            },
            "type": "bar"
           }
          ],
          "barpolar": [
           {
            "marker": {
             "line": {
              "color": "#E5ECF6",
              "width": 0.5
             },
             "pattern": {
              "fillmode": "overlay",
              "size": 10,
              "solidity": 0.2
             }
            },
            "type": "barpolar"
           }
          ],
          "carpet": [
           {
            "aaxis": {
             "endlinecolor": "#2a3f5f",
             "gridcolor": "white",
             "linecolor": "white",
             "minorgridcolor": "white",
             "startlinecolor": "#2a3f5f"
            },
            "baxis": {
             "endlinecolor": "#2a3f5f",
             "gridcolor": "white",
             "linecolor": "white",
             "minorgridcolor": "white",
             "startlinecolor": "#2a3f5f"
            },
            "type": "carpet"
           }
          ],
          "choropleth": [
           {
            "colorbar": {
             "outlinewidth": 0,
             "ticks": ""
            },
            "type": "choropleth"
           }
          ],
          "contour": [
           {
            "colorbar": {
             "outlinewidth": 0,
             "ticks": ""
            },
            "colorscale": [
             [
              0,
              "#0d0887"
             ],
             [
              0.1111111111111111,
              "#46039f"
             ],
             [
              0.2222222222222222,
              "#7201a8"
             ],
             [
              0.3333333333333333,
              "#9c179e"
             ],
             [
              0.4444444444444444,
              "#bd3786"
             ],
             [
              0.5555555555555556,
              "#d8576b"
             ],
             [
              0.6666666666666666,
              "#ed7953"
             ],
             [
              0.7777777777777778,
              "#fb9f3a"
             ],
             [
              0.8888888888888888,
              "#fdca26"
             ],
             [
              1,
              "#f0f921"
             ]
            ],
            "type": "contour"
           }
          ],
          "contourcarpet": [
           {
            "colorbar": {
             "outlinewidth": 0,
             "ticks": ""
            },
            "type": "contourcarpet"
           }
          ],
          "heatmap": [
           {
            "colorbar": {
             "outlinewidth": 0,
             "ticks": ""
            },
            "colorscale": [
             [
              0,
              "#0d0887"
             ],
             [
              0.1111111111111111,
              "#46039f"
             ],
             [
              0.2222222222222222,
              "#7201a8"
             ],
             [
              0.3333333333333333,
              "#9c179e"
             ],
             [
              0.4444444444444444,
              "#bd3786"
             ],
             [
              0.5555555555555556,
              "#d8576b"
             ],
             [
              0.6666666666666666,
              "#ed7953"
             ],
             [
              0.7777777777777778,
              "#fb9f3a"
             ],
             [
              0.8888888888888888,
              "#fdca26"
             ],
             [
              1,
              "#f0f921"
             ]
            ],
            "type": "heatmap"
           }
          ],
          "heatmapgl": [
           {
            "colorbar": {
             "outlinewidth": 0,
             "ticks": ""
            },
            "colorscale": [
             [
              0,
              "#0d0887"
             ],
             [
              0.1111111111111111,
              "#46039f"
             ],
             [
              0.2222222222222222,
              "#7201a8"
             ],
             [
              0.3333333333333333,
              "#9c179e"
             ],
             [
              0.4444444444444444,
              "#bd3786"
             ],
             [
              0.5555555555555556,
              "#d8576b"
             ],
             [
              0.6666666666666666,
              "#ed7953"
             ],
             [
              0.7777777777777778,
              "#fb9f3a"
             ],
             [
              0.8888888888888888,
              "#fdca26"
             ],
             [
              1,
              "#f0f921"
             ]
            ],
            "type": "heatmapgl"
           }
          ],
          "histogram": [
           {
            "marker": {
             "pattern": {
              "fillmode": "overlay",
              "size": 10,
              "solidity": 0.2
             }
            },
            "type": "histogram"
           }
          ],
          "histogram2d": [
           {
            "colorbar": {
             "outlinewidth": 0,
             "ticks": ""
            },
            "colorscale": [
             [
              0,
              "#0d0887"
             ],
             [
              0.1111111111111111,
              "#46039f"
             ],
             [
              0.2222222222222222,
              "#7201a8"
             ],
             [
              0.3333333333333333,
              "#9c179e"
             ],
             [
              0.4444444444444444,
              "#bd3786"
             ],
             [
              0.5555555555555556,
              "#d8576b"
             ],
             [
              0.6666666666666666,
              "#ed7953"
             ],
             [
              0.7777777777777778,
              "#fb9f3a"
             ],
             [
              0.8888888888888888,
              "#fdca26"
             ],
             [
              1,
              "#f0f921"
             ]
            ],
            "type": "histogram2d"
           }
          ],
          "histogram2dcontour": [
           {
            "colorbar": {
             "outlinewidth": 0,
             "ticks": ""
            },
            "colorscale": [
             [
              0,
              "#0d0887"
             ],
             [
              0.1111111111111111,
              "#46039f"
             ],
             [
              0.2222222222222222,
              "#7201a8"
             ],
             [
              0.3333333333333333,
              "#9c179e"
             ],
             [
              0.4444444444444444,
              "#bd3786"
             ],
             [
              0.5555555555555556,
              "#d8576b"
             ],
             [
              0.6666666666666666,
              "#ed7953"
             ],
             [
              0.7777777777777778,
              "#fb9f3a"
             ],
             [
              0.8888888888888888,
              "#fdca26"
             ],
             [
              1,
              "#f0f921"
             ]
            ],
            "type": "histogram2dcontour"
           }
          ],
          "mesh3d": [
           {
            "colorbar": {
             "outlinewidth": 0,
             "ticks": ""
            },
            "type": "mesh3d"
           }
          ],
          "parcoords": [
           {
            "line": {
             "colorbar": {
              "outlinewidth": 0,
              "ticks": ""
             }
            },
            "type": "parcoords"
           }
          ],
          "pie": [
           {
            "automargin": true,
            "type": "pie"
           }
          ],
          "scatter": [
           {
            "fillpattern": {
             "fillmode": "overlay",
             "size": 10,
             "solidity": 0.2
            },
            "type": "scatter"
           }
          ],
          "scatter3d": [
           {
            "line": {
             "colorbar": {
              "outlinewidth": 0,
              "ticks": ""
             }
            },
            "marker": {
             "colorbar": {
              "outlinewidth": 0,
              "ticks": ""
             }
            },
            "type": "scatter3d"
           }
          ],
          "scattercarpet": [
           {
            "marker": {
             "colorbar": {
              "outlinewidth": 0,
              "ticks": ""
             }
            },
            "type": "scattercarpet"
           }
          ],
          "scattergeo": [
           {
            "marker": {
             "colorbar": {
              "outlinewidth": 0,
              "ticks": ""
             }
            },
            "type": "scattergeo"
           }
          ],
          "scattergl": [
           {
            "marker": {
             "colorbar": {
              "outlinewidth": 0,
              "ticks": ""
             }
            },
            "type": "scattergl"
           }
          ],
          "scattermapbox": [
           {
            "marker": {
             "colorbar": {
              "outlinewidth": 0,
              "ticks": ""
             }
            },
            "type": "scattermapbox"
           }
          ],
          "scatterpolar": [
           {
            "marker": {
             "colorbar": {
              "outlinewidth": 0,
              "ticks": ""
             }
            },
            "type": "scatterpolar"
           }
          ],
          "scatterpolargl": [
           {
            "marker": {
             "colorbar": {
              "outlinewidth": 0,
              "ticks": ""
             }
            },
            "type": "scatterpolargl"
           }
          ],
          "scatterternary": [
           {
            "marker": {
             "colorbar": {
              "outlinewidth": 0,
              "ticks": ""
             }
            },
            "type": "scatterternary"
           }
          ],
          "surface": [
           {
            "colorbar": {
             "outlinewidth": 0,
             "ticks": ""
            },
            "colorscale": [
             [
              0,
              "#0d0887"
             ],
             [
              0.1111111111111111,
              "#46039f"
             ],
             [
              0.2222222222222222,
              "#7201a8"
             ],
             [
              0.3333333333333333,
              "#9c179e"
             ],
             [
              0.4444444444444444,
              "#bd3786"
             ],
             [
              0.5555555555555556,
              "#d8576b"
             ],
             [
              0.6666666666666666,
              "#ed7953"
             ],
             [
              0.7777777777777778,
              "#fb9f3a"
             ],
             [
              0.8888888888888888,
              "#fdca26"
             ],
             [
              1,
              "#f0f921"
             ]
            ],
            "type": "surface"
           }
          ],
          "table": [
           {
            "cells": {
             "fill": {
              "color": "#EBF0F8"
             },
             "line": {
              "color": "white"
             }
            },
            "header": {
             "fill": {
              "color": "#C8D4E3"
             },
             "line": {
              "color": "white"
             }
            },
            "type": "table"
           }
          ]
         },
         "layout": {
          "annotationdefaults": {
           "arrowcolor": "#2a3f5f",
           "arrowhead": 0,
           "arrowwidth": 1
          },
          "autotypenumbers": "strict",
          "coloraxis": {
           "colorbar": {
            "outlinewidth": 0,
            "ticks": ""
           }
          },
          "colorscale": {
           "diverging": [
            [
             0,
             "#8e0152"
            ],
            [
             0.1,
             "#c51b7d"
            ],
            [
             0.2,
             "#de77ae"
            ],
            [
             0.3,
             "#f1b6da"
            ],
            [
             0.4,
             "#fde0ef"
            ],
            [
             0.5,
             "#f7f7f7"
            ],
            [
             0.6,
             "#e6f5d0"
            ],
            [
             0.7,
             "#b8e186"
            ],
            [
             0.8,
             "#7fbc41"
            ],
            [
             0.9,
             "#4d9221"
            ],
            [
             1,
             "#276419"
            ]
           ],
           "sequential": [
            [
             0,
             "#0d0887"
            ],
            [
             0.1111111111111111,
             "#46039f"
            ],
            [
             0.2222222222222222,
             "#7201a8"
            ],
            [
             0.3333333333333333,
             "#9c179e"
            ],
            [
             0.4444444444444444,
             "#bd3786"
            ],
            [
             0.5555555555555556,
             "#d8576b"
            ],
            [
             0.6666666666666666,
             "#ed7953"
            ],
            [
             0.7777777777777778,
             "#fb9f3a"
            ],
            [
             0.8888888888888888,
             "#fdca26"
            ],
            [
             1,
             "#f0f921"
            ]
           ],
           "sequentialminus": [
            [
             0,
             "#0d0887"
            ],
            [
             0.1111111111111111,
             "#46039f"
            ],
            [
             0.2222222222222222,
             "#7201a8"
            ],
            [
             0.3333333333333333,
             "#9c179e"
            ],
            [
             0.4444444444444444,
             "#bd3786"
            ],
            [
             0.5555555555555556,
             "#d8576b"
            ],
            [
             0.6666666666666666,
             "#ed7953"
            ],
            [
             0.7777777777777778,
             "#fb9f3a"
            ],
            [
             0.8888888888888888,
             "#fdca26"
            ],
            [
             1,
             "#f0f921"
            ]
           ]
          },
          "colorway": [
           "#636efa",
           "#EF553B",
           "#00cc96",
           "#ab63fa",
           "#FFA15A",
           "#19d3f3",
           "#FF6692",
           "#B6E880",
           "#FF97FF",
           "#FECB52"
          ],
          "font": {
           "color": "#2a3f5f"
          },
          "geo": {
           "bgcolor": "white",
           "lakecolor": "white",
           "landcolor": "#E5ECF6",
           "showlakes": true,
           "showland": true,
           "subunitcolor": "white"
          },
          "hoverlabel": {
           "align": "left"
          },
          "hovermode": "closest",
          "mapbox": {
           "style": "light"
          },
          "paper_bgcolor": "white",
          "plot_bgcolor": "#E5ECF6",
          "polar": {
           "angularaxis": {
            "gridcolor": "white",
            "linecolor": "white",
            "ticks": ""
           },
           "bgcolor": "#E5ECF6",
           "radialaxis": {
            "gridcolor": "white",
            "linecolor": "white",
            "ticks": ""
           }
          },
          "scene": {
           "xaxis": {
            "backgroundcolor": "#E5ECF6",
            "gridcolor": "white",
            "gridwidth": 2,
            "linecolor": "white",
            "showbackground": true,
            "ticks": "",
            "zerolinecolor": "white"
           },
           "yaxis": {
            "backgroundcolor": "#E5ECF6",
            "gridcolor": "white",
            "gridwidth": 2,
            "linecolor": "white",
            "showbackground": true,
            "ticks": "",
            "zerolinecolor": "white"
           },
           "zaxis": {
            "backgroundcolor": "#E5ECF6",
            "gridcolor": "white",
            "gridwidth": 2,
            "linecolor": "white",
            "showbackground": true,
            "ticks": "",
            "zerolinecolor": "white"
           }
          },
          "shapedefaults": {
           "line": {
            "color": "#2a3f5f"
           }
          },
          "ternary": {
           "aaxis": {
            "gridcolor": "white",
            "linecolor": "white",
            "ticks": ""
           },
           "baxis": {
            "gridcolor": "white",
            "linecolor": "white",
            "ticks": ""
           },
           "bgcolor": "#E5ECF6",
           "caxis": {
            "gridcolor": "white",
            "linecolor": "white",
            "ticks": ""
           }
          },
          "title": {
           "x": 0.05
          },
          "xaxis": {
           "automargin": true,
           "gridcolor": "white",
           "linecolor": "white",
           "ticks": "",
           "title": {
            "standoff": 15
           },
           "zerolinecolor": "white",
           "zerolinewidth": 2
          },
          "yaxis": {
           "automargin": true,
           "gridcolor": "white",
           "linecolor": "white",
           "ticks": "",
           "title": {
            "standoff": 15
           },
           "zerolinecolor": "white",
           "zerolinewidth": 2
          }
         }
        },
        "title": {
         "text": "Frame 364815"
        }
       }
      }
     },
     "metadata": {},
     "output_type": "display_data"
    },
    {
     "data": {
      "application/vnd.plotly.v1+json": {
       "config": {
        "plotlyServerURL": "https://plot.ly"
       },
       "data": [
        {
         "marker": {
          "color": "black",
          "size": 2
         },
         "mode": "markers",
         "name": "Keypoints",
         "type": "scatter3d",
         "x": [
          557.7314820811216,
          634.5434320653628,
          575.9890953647855,
          677.4613127393429,
          659.9255217975852,
          598.7224418203332,
          759.9515628532711,
          652.1667767742526,
          734.4440752730334,
          743.7503925668027,
          718.9361566704994,
          605.2662637150742
         ],
         "y": [
          355.56518926797327,
          344.9232819259277,
          286.8083668399454,
          193.72886669114047,
          289.43589227115183,
          249.0135738271213,
          132.3217487839238,
          113.20975690972804,
          20.51468166459243,
          -135.68526882811955,
          -335.50518960816635,
          315.8658243829366
         ],
         "z": [
          -72.42232119244284,
          43.79732773642826,
          48.47713265082313,
          46.24519849450688,
          -92.79969277713931,
          -83.73934618165798,
          -100.92220056266056,
          -94.61136576552953,
          -9.03851660107264,
          -2.2852838216143643,
          -37.34251890229512,
          46.1372301936257
         ]
        },
        {
         "line": {
          "color": "#FF5733",
          "width": 6
         },
         "mode": "lines",
         "name": "Line 1-2",
         "type": "scatter3d",
         "x": [
          557.7314820811216,
          634.5434320653628
         ],
         "y": [
          355.56518926797327,
          344.9232819259277
         ],
         "z": [
          -72.42232119244284,
          43.79732773642826
         ]
        },
        {
         "line": {
          "color": "#33FF57",
          "width": 6
         },
         "mode": "lines",
         "name": "Line 1-3",
         "type": "scatter3d",
         "x": [
          557.7314820811216,
          575.9890953647855
         ],
         "y": [
          355.56518926797327,
          286.8083668399454
         ],
         "z": [
          -72.42232119244284,
          48.47713265082313
         ]
        },
        {
         "line": {
          "color": "#3357FF",
          "width": 6
         },
         "mode": "lines",
         "name": "Line 2-3",
         "type": "scatter3d",
         "x": [
          634.5434320653628,
          575.9890953647855
         ],
         "y": [
          344.9232819259277,
          286.8083668399454
         ],
         "z": [
          43.79732773642826,
          48.47713265082313
         ]
        },
        {
         "line": {
          "color": "#F1C40F",
          "width": 6
         },
         "mode": "lines",
         "name": "Line 4-12",
         "type": "scatter3d",
         "x": [
          677.4613127393429,
          605.2662637150742
         ],
         "y": [
          193.72886669114047,
          315.8658243829366
         ],
         "z": [
          46.24519849450688,
          46.1372301936257
         ]
        },
        {
         "line": {
          "color": "#9B59B6",
          "width": 6
         },
         "mode": "lines",
         "name": "Line 4-5",
         "type": "scatter3d",
         "x": [
          677.4613127393429,
          659.9255217975852
         ],
         "y": [
          193.72886669114047,
          289.43589227115183
         ],
         "z": [
          46.24519849450688,
          -92.79969277713931
         ]
        },
        {
         "line": {
          "color": "#1ABC9C",
          "width": 6
         },
         "mode": "lines",
         "name": "Line 4-6",
         "type": "scatter3d",
         "x": [
          677.4613127393429,
          598.7224418203332
         ],
         "y": [
          193.72886669114047,
          249.0135738271213
         ],
         "z": [
          46.24519849450688,
          -83.73934618165798
         ]
        },
        {
         "line": {
          "color": "#E74C3C",
          "width": 6
         },
         "mode": "lines",
         "name": "Line 4-7",
         "type": "scatter3d",
         "x": [
          677.4613127393429,
          759.9515628532711
         ],
         "y": [
          193.72886669114047,
          132.3217487839238
         ],
         "z": [
          46.24519849450688,
          -100.92220056266056
         ]
        },
        {
         "line": {
          "color": "#8E44AD",
          "width": 6
         },
         "mode": "lines",
         "name": "Line 4-8",
         "type": "scatter3d",
         "x": [
          677.4613127393429,
          652.1667767742526
         ],
         "y": [
          193.72886669114047,
          113.20975690972804
         ],
         "z": [
          46.24519849450688,
          -94.61136576552953
         ]
        },
        {
         "line": {
          "color": "#2ECC71",
          "width": 6
         },
         "mode": "lines",
         "name": "Line 4-9",
         "type": "scatter3d",
         "x": [
          677.4613127393429,
          734.4440752730334
         ],
         "y": [
          193.72886669114047,
          20.51468166459243
         ],
         "z": [
          46.24519849450688,
          -9.03851660107264
         ]
        },
        {
         "line": {
          "color": "#3498DB",
          "width": 6
         },
         "mode": "lines",
         "name": "Line 9-10",
         "type": "scatter3d",
         "x": [
          734.4440752730334,
          743.7503925668027
         ],
         "y": [
          20.51468166459243,
          -135.68526882811955
         ],
         "z": [
          -9.03851660107264,
          -2.2852838216143643
         ]
        },
        {
         "line": {
          "color": "#F39C12",
          "width": 6
         },
         "mode": "lines",
         "name": "Line 10-11",
         "type": "scatter3d",
         "x": [
          743.7503925668027,
          718.9361566704994
         ],
         "y": [
          -135.68526882811955,
          -335.50518960816635
         ],
         "z": [
          -2.2852838216143643,
          -37.34251890229512
         ]
        }
       ],
       "layout": {
        "scene": {
         "aspectmode": "cube",
         "bgcolor": "rgba(0, 0, 0, 0)",
         "xaxis": {
          "backgroundcolor": "rgba(169, 169, 169, 0.6)",
          "linecolor": "black",
          "linewidth": 4,
          "range": [
           257.7314820811216,
           1059.951562853271
          ],
          "showgrid": false,
          "showline": true,
          "showticklabels": false,
          "title": {
           "text": "X"
          }
         },
         "yaxis": {
          "backgroundcolor": "rgba(169, 169, 169, 0.6)",
          "linecolor": "black",
          "linewidth": 4,
          "range": [
           -635.5051896081663,
           655.5651892679732
          ],
          "showgrid": false,
          "showline": true,
          "showticklabels": false,
          "title": {
           "text": "Y"
          }
         },
         "zaxis": {
          "backgroundcolor": "rgba(169, 169, 169, 0.6)",
          "linecolor": "black",
          "linewidth": 4,
          "range": [
           -400.9222005626606,
           348.47713265082314
          ],
          "showgrid": false,
          "showline": true,
          "showticklabels": false,
          "title": {
           "text": "Z"
          }
         }
        },
        "showlegend": true,
        "template": {
         "data": {
          "bar": [
           {
            "error_x": {
             "color": "#2a3f5f"
            },
            "error_y": {
             "color": "#2a3f5f"
            },
            "marker": {
             "line": {
              "color": "#E5ECF6",
              "width": 0.5
             },
             "pattern": {
              "fillmode": "overlay",
              "size": 10,
              "solidity": 0.2
             }
            },
            "type": "bar"
           }
          ],
          "barpolar": [
           {
            "marker": {
             "line": {
              "color": "#E5ECF6",
              "width": 0.5
             },
             "pattern": {
              "fillmode": "overlay",
              "size": 10,
              "solidity": 0.2
             }
            },
            "type": "barpolar"
           }
          ],
          "carpet": [
           {
            "aaxis": {
             "endlinecolor": "#2a3f5f",
             "gridcolor": "white",
             "linecolor": "white",
             "minorgridcolor": "white",
             "startlinecolor": "#2a3f5f"
            },
            "baxis": {
             "endlinecolor": "#2a3f5f",
             "gridcolor": "white",
             "linecolor": "white",
             "minorgridcolor": "white",
             "startlinecolor": "#2a3f5f"
            },
            "type": "carpet"
           }
          ],
          "choropleth": [
           {
            "colorbar": {
             "outlinewidth": 0,
             "ticks": ""
            },
            "type": "choropleth"
           }
          ],
          "contour": [
           {
            "colorbar": {
             "outlinewidth": 0,
             "ticks": ""
            },
            "colorscale": [
             [
              0,
              "#0d0887"
             ],
             [
              0.1111111111111111,
              "#46039f"
             ],
             [
              0.2222222222222222,
              "#7201a8"
             ],
             [
              0.3333333333333333,
              "#9c179e"
             ],
             [
              0.4444444444444444,
              "#bd3786"
             ],
             [
              0.5555555555555556,
              "#d8576b"
             ],
             [
              0.6666666666666666,
              "#ed7953"
             ],
             [
              0.7777777777777778,
              "#fb9f3a"
             ],
             [
              0.8888888888888888,
              "#fdca26"
             ],
             [
              1,
              "#f0f921"
             ]
            ],
            "type": "contour"
           }
          ],
          "contourcarpet": [
           {
            "colorbar": {
             "outlinewidth": 0,
             "ticks": ""
            },
            "type": "contourcarpet"
           }
          ],
          "heatmap": [
           {
            "colorbar": {
             "outlinewidth": 0,
             "ticks": ""
            },
            "colorscale": [
             [
              0,
              "#0d0887"
             ],
             [
              0.1111111111111111,
              "#46039f"
             ],
             [
              0.2222222222222222,
              "#7201a8"
             ],
             [
              0.3333333333333333,
              "#9c179e"
             ],
             [
              0.4444444444444444,
              "#bd3786"
             ],
             [
              0.5555555555555556,
              "#d8576b"
             ],
             [
              0.6666666666666666,
              "#ed7953"
             ],
             [
              0.7777777777777778,
              "#fb9f3a"
             ],
             [
              0.8888888888888888,
              "#fdca26"
             ],
             [
              1,
              "#f0f921"
             ]
            ],
            "type": "heatmap"
           }
          ],
          "heatmapgl": [
           {
            "colorbar": {
             "outlinewidth": 0,
             "ticks": ""
            },
            "colorscale": [
             [
              0,
              "#0d0887"
             ],
             [
              0.1111111111111111,
              "#46039f"
             ],
             [
              0.2222222222222222,
              "#7201a8"
             ],
             [
              0.3333333333333333,
              "#9c179e"
             ],
             [
              0.4444444444444444,
              "#bd3786"
             ],
             [
              0.5555555555555556,
              "#d8576b"
             ],
             [
              0.6666666666666666,
              "#ed7953"
             ],
             [
              0.7777777777777778,
              "#fb9f3a"
             ],
             [
              0.8888888888888888,
              "#fdca26"
             ],
             [
              1,
              "#f0f921"
             ]
            ],
            "type": "heatmapgl"
           }
          ],
          "histogram": [
           {
            "marker": {
             "pattern": {
              "fillmode": "overlay",
              "size": 10,
              "solidity": 0.2
             }
            },
            "type": "histogram"
           }
          ],
          "histogram2d": [
           {
            "colorbar": {
             "outlinewidth": 0,
             "ticks": ""
            },
            "colorscale": [
             [
              0,
              "#0d0887"
             ],
             [
              0.1111111111111111,
              "#46039f"
             ],
             [
              0.2222222222222222,
              "#7201a8"
             ],
             [
              0.3333333333333333,
              "#9c179e"
             ],
             [
              0.4444444444444444,
              "#bd3786"
             ],
             [
              0.5555555555555556,
              "#d8576b"
             ],
             [
              0.6666666666666666,
              "#ed7953"
             ],
             [
              0.7777777777777778,
              "#fb9f3a"
             ],
             [
              0.8888888888888888,
              "#fdca26"
             ],
             [
              1,
              "#f0f921"
             ]
            ],
            "type": "histogram2d"
           }
          ],
          "histogram2dcontour": [
           {
            "colorbar": {
             "outlinewidth": 0,
             "ticks": ""
            },
            "colorscale": [
             [
              0,
              "#0d0887"
             ],
             [
              0.1111111111111111,
              "#46039f"
             ],
             [
              0.2222222222222222,
              "#7201a8"
             ],
             [
              0.3333333333333333,
              "#9c179e"
             ],
             [
              0.4444444444444444,
              "#bd3786"
             ],
             [
              0.5555555555555556,
              "#d8576b"
             ],
             [
              0.6666666666666666,
              "#ed7953"
             ],
             [
              0.7777777777777778,
              "#fb9f3a"
             ],
             [
              0.8888888888888888,
              "#fdca26"
             ],
             [
              1,
              "#f0f921"
             ]
            ],
            "type": "histogram2dcontour"
           }
          ],
          "mesh3d": [
           {
            "colorbar": {
             "outlinewidth": 0,
             "ticks": ""
            },
            "type": "mesh3d"
           }
          ],
          "parcoords": [
           {
            "line": {
             "colorbar": {
              "outlinewidth": 0,
              "ticks": ""
             }
            },
            "type": "parcoords"
           }
          ],
          "pie": [
           {
            "automargin": true,
            "type": "pie"
           }
          ],
          "scatter": [
           {
            "fillpattern": {
             "fillmode": "overlay",
             "size": 10,
             "solidity": 0.2
            },
            "type": "scatter"
           }
          ],
          "scatter3d": [
           {
            "line": {
             "colorbar": {
              "outlinewidth": 0,
              "ticks": ""
             }
            },
            "marker": {
             "colorbar": {
              "outlinewidth": 0,
              "ticks": ""
             }
            },
            "type": "scatter3d"
           }
          ],
          "scattercarpet": [
           {
            "marker": {
             "colorbar": {
              "outlinewidth": 0,
              "ticks": ""
             }
            },
            "type": "scattercarpet"
           }
          ],
          "scattergeo": [
           {
            "marker": {
             "colorbar": {
              "outlinewidth": 0,
              "ticks": ""
             }
            },
            "type": "scattergeo"
           }
          ],
          "scattergl": [
           {
            "marker": {
             "colorbar": {
              "outlinewidth": 0,
              "ticks": ""
             }
            },
            "type": "scattergl"
           }
          ],
          "scattermapbox": [
           {
            "marker": {
             "colorbar": {
              "outlinewidth": 0,
              "ticks": ""
             }
            },
            "type": "scattermapbox"
           }
          ],
          "scatterpolar": [
           {
            "marker": {
             "colorbar": {
              "outlinewidth": 0,
              "ticks": ""
             }
            },
            "type": "scatterpolar"
           }
          ],
          "scatterpolargl": [
           {
            "marker": {
             "colorbar": {
              "outlinewidth": 0,
              "ticks": ""
             }
            },
            "type": "scatterpolargl"
           }
          ],
          "scatterternary": [
           {
            "marker": {
             "colorbar": {
              "outlinewidth": 0,
              "ticks": ""
             }
            },
            "type": "scatterternary"
           }
          ],
          "surface": [
           {
            "colorbar": {
             "outlinewidth": 0,
             "ticks": ""
            },
            "colorscale": [
             [
              0,
              "#0d0887"
             ],
             [
              0.1111111111111111,
              "#46039f"
             ],
             [
              0.2222222222222222,
              "#7201a8"
             ],
             [
              0.3333333333333333,
              "#9c179e"
             ],
             [
              0.4444444444444444,
              "#bd3786"
             ],
             [
              0.5555555555555556,
              "#d8576b"
             ],
             [
              0.6666666666666666,
              "#ed7953"
             ],
             [
              0.7777777777777778,
              "#fb9f3a"
             ],
             [
              0.8888888888888888,
              "#fdca26"
             ],
             [
              1,
              "#f0f921"
             ]
            ],
            "type": "surface"
           }
          ],
          "table": [
           {
            "cells": {
             "fill": {
              "color": "#EBF0F8"
             },
             "line": {
              "color": "white"
             }
            },
            "header": {
             "fill": {
              "color": "#C8D4E3"
             },
             "line": {
              "color": "white"
             }
            },
            "type": "table"
           }
          ]
         },
         "layout": {
          "annotationdefaults": {
           "arrowcolor": "#2a3f5f",
           "arrowhead": 0,
           "arrowwidth": 1
          },
          "autotypenumbers": "strict",
          "coloraxis": {
           "colorbar": {
            "outlinewidth": 0,
            "ticks": ""
           }
          },
          "colorscale": {
           "diverging": [
            [
             0,
             "#8e0152"
            ],
            [
             0.1,
             "#c51b7d"
            ],
            [
             0.2,
             "#de77ae"
            ],
            [
             0.3,
             "#f1b6da"
            ],
            [
             0.4,
             "#fde0ef"
            ],
            [
             0.5,
             "#f7f7f7"
            ],
            [
             0.6,
             "#e6f5d0"
            ],
            [
             0.7,
             "#b8e186"
            ],
            [
             0.8,
             "#7fbc41"
            ],
            [
             0.9,
             "#4d9221"
            ],
            [
             1,
             "#276419"
            ]
           ],
           "sequential": [
            [
             0,
             "#0d0887"
            ],
            [
             0.1111111111111111,
             "#46039f"
            ],
            [
             0.2222222222222222,
             "#7201a8"
            ],
            [
             0.3333333333333333,
             "#9c179e"
            ],
            [
             0.4444444444444444,
             "#bd3786"
            ],
            [
             0.5555555555555556,
             "#d8576b"
            ],
            [
             0.6666666666666666,
             "#ed7953"
            ],
            [
             0.7777777777777778,
             "#fb9f3a"
            ],
            [
             0.8888888888888888,
             "#fdca26"
            ],
            [
             1,
             "#f0f921"
            ]
           ],
           "sequentialminus": [
            [
             0,
             "#0d0887"
            ],
            [
             0.1111111111111111,
             "#46039f"
            ],
            [
             0.2222222222222222,
             "#7201a8"
            ],
            [
             0.3333333333333333,
             "#9c179e"
            ],
            [
             0.4444444444444444,
             "#bd3786"
            ],
            [
             0.5555555555555556,
             "#d8576b"
            ],
            [
             0.6666666666666666,
             "#ed7953"
            ],
            [
             0.7777777777777778,
             "#fb9f3a"
            ],
            [
             0.8888888888888888,
             "#fdca26"
            ],
            [
             1,
             "#f0f921"
            ]
           ]
          },
          "colorway": [
           "#636efa",
           "#EF553B",
           "#00cc96",
           "#ab63fa",
           "#FFA15A",
           "#19d3f3",
           "#FF6692",
           "#B6E880",
           "#FF97FF",
           "#FECB52"
          ],
          "font": {
           "color": "#2a3f5f"
          },
          "geo": {
           "bgcolor": "white",
           "lakecolor": "white",
           "landcolor": "#E5ECF6",
           "showlakes": true,
           "showland": true,
           "subunitcolor": "white"
          },
          "hoverlabel": {
           "align": "left"
          },
          "hovermode": "closest",
          "mapbox": {
           "style": "light"
          },
          "paper_bgcolor": "white",
          "plot_bgcolor": "#E5ECF6",
          "polar": {
           "angularaxis": {
            "gridcolor": "white",
            "linecolor": "white",
            "ticks": ""
           },
           "bgcolor": "#E5ECF6",
           "radialaxis": {
            "gridcolor": "white",
            "linecolor": "white",
            "ticks": ""
           }
          },
          "scene": {
           "xaxis": {
            "backgroundcolor": "#E5ECF6",
            "gridcolor": "white",
            "gridwidth": 2,
            "linecolor": "white",
            "showbackground": true,
            "ticks": "",
            "zerolinecolor": "white"
           },
           "yaxis": {
            "backgroundcolor": "#E5ECF6",
            "gridcolor": "white",
            "gridwidth": 2,
            "linecolor": "white",
            "showbackground": true,
            "ticks": "",
            "zerolinecolor": "white"
           },
           "zaxis": {
            "backgroundcolor": "#E5ECF6",
            "gridcolor": "white",
            "gridwidth": 2,
            "linecolor": "white",
            "showbackground": true,
            "ticks": "",
            "zerolinecolor": "white"
           }
          },
          "shapedefaults": {
           "line": {
            "color": "#2a3f5f"
           }
          },
          "ternary": {
           "aaxis": {
            "gridcolor": "white",
            "linecolor": "white",
            "ticks": ""
           },
           "baxis": {
            "gridcolor": "white",
            "linecolor": "white",
            "ticks": ""
           },
           "bgcolor": "#E5ECF6",
           "caxis": {
            "gridcolor": "white",
            "linecolor": "white",
            "ticks": ""
           }
          },
          "title": {
           "x": 0.05
          },
          "xaxis": {
           "automargin": true,
           "gridcolor": "white",
           "linecolor": "white",
           "ticks": "",
           "title": {
            "standoff": 15
           },
           "zerolinecolor": "white",
           "zerolinewidth": 2
          },
          "yaxis": {
           "automargin": true,
           "gridcolor": "white",
           "linecolor": "white",
           "ticks": "",
           "title": {
            "standoff": 15
           },
           "zerolinecolor": "white",
           "zerolinewidth": 2
          }
         }
        },
        "title": {
         "text": "Frame 376149"
        }
       }
      }
     },
     "metadata": {},
     "output_type": "display_data"
    },
    {
     "data": {
      "application/vnd.plotly.v1+json": {
       "config": {
        "plotlyServerURL": "https://plot.ly"
       },
       "data": [
        {
         "marker": {
          "color": "black",
          "size": 2
         },
         "mode": "markers",
         "name": "Keypoints",
         "type": "scatter3d",
         "x": [
          526.5416508042069,
          614.1707794950979,
          538.0472360069409,
          652.3311446798609,
          629.6542217564886,
          569.6072667202475,
          742.3553897854788,
          653.7616610170231,
          738.0060112720438,
          805.0703579530435,
          853.2479388615204,
          576.1090077510194
         ],
         "y": [
          616.2954093715146,
          546.9193809674684,
          494.6731335025261,
          401.8448064904979,
          505.5264685689816,
          475.1239183541673,
          366.26105476759705,
          300.4162959936299,
          242.95278631996115,
          79.72667388705186,
          -139.16932489892594,
          520.7962572349973
         ],
         "z": [
          -19.06936073161663,
          69.6816245250209,
          73.14226097941022,
          36.1281634452721,
          -88.87655075302632,
          -95.72416840044642,
          -120.42825787340908,
          -112.74388772116122,
          -29.20899205079442,
          -24.38009796357768,
          -51.7886774528949,
          71.41194275221557
         ]
        },
        {
         "line": {
          "color": "#FF5733",
          "width": 6
         },
         "mode": "lines",
         "name": "Line 1-2",
         "type": "scatter3d",
         "x": [
          526.5416508042069,
          614.1707794950979
         ],
         "y": [
          616.2954093715146,
          546.9193809674684
         ],
         "z": [
          -19.06936073161663,
          69.6816245250209
         ]
        },
        {
         "line": {
          "color": "#33FF57",
          "width": 6
         },
         "mode": "lines",
         "name": "Line 1-3",
         "type": "scatter3d",
         "x": [
          526.5416508042069,
          538.0472360069409
         ],
         "y": [
          616.2954093715146,
          494.6731335025261
         ],
         "z": [
          -19.06936073161663,
          73.14226097941022
         ]
        },
        {
         "line": {
          "color": "#3357FF",
          "width": 6
         },
         "mode": "lines",
         "name": "Line 2-3",
         "type": "scatter3d",
         "x": [
          614.1707794950979,
          538.0472360069409
         ],
         "y": [
          546.9193809674684,
          494.6731335025261
         ],
         "z": [
          69.6816245250209,
          73.14226097941022
         ]
        },
        {
         "line": {
          "color": "#F1C40F",
          "width": 6
         },
         "mode": "lines",
         "name": "Line 4-12",
         "type": "scatter3d",
         "x": [
          652.3311446798609,
          576.1090077510194
         ],
         "y": [
          401.8448064904979,
          520.7962572349973
         ],
         "z": [
          36.1281634452721,
          71.41194275221557
         ]
        },
        {
         "line": {
          "color": "#9B59B6",
          "width": 6
         },
         "mode": "lines",
         "name": "Line 4-5",
         "type": "scatter3d",
         "x": [
          652.3311446798609,
          629.6542217564886
         ],
         "y": [
          401.8448064904979,
          505.5264685689816
         ],
         "z": [
          36.1281634452721,
          -88.87655075302632
         ]
        },
        {
         "line": {
          "color": "#1ABC9C",
          "width": 6
         },
         "mode": "lines",
         "name": "Line 4-6",
         "type": "scatter3d",
         "x": [
          652.3311446798609,
          569.6072667202475
         ],
         "y": [
          401.8448064904979,
          475.1239183541673
         ],
         "z": [
          36.1281634452721,
          -95.72416840044642
         ]
        },
        {
         "line": {
          "color": "#E74C3C",
          "width": 6
         },
         "mode": "lines",
         "name": "Line 4-7",
         "type": "scatter3d",
         "x": [
          652.3311446798609,
          742.3553897854788
         ],
         "y": [
          401.8448064904979,
          366.26105476759705
         ],
         "z": [
          36.1281634452721,
          -120.42825787340908
         ]
        },
        {
         "line": {
          "color": "#8E44AD",
          "width": 6
         },
         "mode": "lines",
         "name": "Line 4-8",
         "type": "scatter3d",
         "x": [
          652.3311446798609,
          653.7616610170231
         ],
         "y": [
          401.8448064904979,
          300.4162959936299
         ],
         "z": [
          36.1281634452721,
          -112.74388772116122
         ]
        },
        {
         "line": {
          "color": "#2ECC71",
          "width": 6
         },
         "mode": "lines",
         "name": "Line 4-9",
         "type": "scatter3d",
         "x": [
          652.3311446798609,
          738.0060112720438
         ],
         "y": [
          401.8448064904979,
          242.95278631996115
         ],
         "z": [
          36.1281634452721,
          -29.20899205079442
         ]
        },
        {
         "line": {
          "color": "#3498DB",
          "width": 6
         },
         "mode": "lines",
         "name": "Line 9-10",
         "type": "scatter3d",
         "x": [
          738.0060112720438,
          805.0703579530435
         ],
         "y": [
          242.95278631996115,
          79.72667388705186
         ],
         "z": [
          -29.20899205079442,
          -24.38009796357768
         ]
        },
        {
         "line": {
          "color": "#F39C12",
          "width": 6
         },
         "mode": "lines",
         "name": "Line 10-11",
         "type": "scatter3d",
         "x": [
          805.0703579530435,
          853.2479388615204
         ],
         "y": [
          79.72667388705186,
          -139.16932489892594
         ],
         "z": [
          -24.38009796357768,
          -51.7886774528949
         ]
        }
       ],
       "layout": {
        "scene": {
         "aspectmode": "cube",
         "bgcolor": "rgba(0, 0, 0, 0)",
         "xaxis": {
          "backgroundcolor": "rgba(169, 169, 169, 0.6)",
          "linecolor": "black",
          "linewidth": 4,
          "range": [
           226.54165080420694,
           1153.2479388615204
          ],
          "showgrid": false,
          "showline": true,
          "showticklabels": false,
          "title": {
           "text": "X"
          }
         },
         "yaxis": {
          "backgroundcolor": "rgba(169, 169, 169, 0.6)",
          "linecolor": "black",
          "linewidth": 4,
          "range": [
           -439.16932489892594,
           916.2954093715146
          ],
          "showgrid": false,
          "showline": true,
          "showticklabels": false,
          "title": {
           "text": "Y"
          }
         },
         "zaxis": {
          "backgroundcolor": "rgba(169, 169, 169, 0.6)",
          "linecolor": "black",
          "linewidth": 4,
          "range": [
           -420.42825787340905,
           373.14226097941025
          ],
          "showgrid": false,
          "showline": true,
          "showticklabels": false,
          "title": {
           "text": "Z"
          }
         }
        },
        "showlegend": true,
        "template": {
         "data": {
          "bar": [
           {
            "error_x": {
             "color": "#2a3f5f"
            },
            "error_y": {
             "color": "#2a3f5f"
            },
            "marker": {
             "line": {
              "color": "#E5ECF6",
              "width": 0.5
             },
             "pattern": {
              "fillmode": "overlay",
              "size": 10,
              "solidity": 0.2
             }
            },
            "type": "bar"
           }
          ],
          "barpolar": [
           {
            "marker": {
             "line": {
              "color": "#E5ECF6",
              "width": 0.5
             },
             "pattern": {
              "fillmode": "overlay",
              "size": 10,
              "solidity": 0.2
             }
            },
            "type": "barpolar"
           }
          ],
          "carpet": [
           {
            "aaxis": {
             "endlinecolor": "#2a3f5f",
             "gridcolor": "white",
             "linecolor": "white",
             "minorgridcolor": "white",
             "startlinecolor": "#2a3f5f"
            },
            "baxis": {
             "endlinecolor": "#2a3f5f",
             "gridcolor": "white",
             "linecolor": "white",
             "minorgridcolor": "white",
             "startlinecolor": "#2a3f5f"
            },
            "type": "carpet"
           }
          ],
          "choropleth": [
           {
            "colorbar": {
             "outlinewidth": 0,
             "ticks": ""
            },
            "type": "choropleth"
           }
          ],
          "contour": [
           {
            "colorbar": {
             "outlinewidth": 0,
             "ticks": ""
            },
            "colorscale": [
             [
              0,
              "#0d0887"
             ],
             [
              0.1111111111111111,
              "#46039f"
             ],
             [
              0.2222222222222222,
              "#7201a8"
             ],
             [
              0.3333333333333333,
              "#9c179e"
             ],
             [
              0.4444444444444444,
              "#bd3786"
             ],
             [
              0.5555555555555556,
              "#d8576b"
             ],
             [
              0.6666666666666666,
              "#ed7953"
             ],
             [
              0.7777777777777778,
              "#fb9f3a"
             ],
             [
              0.8888888888888888,
              "#fdca26"
             ],
             [
              1,
              "#f0f921"
             ]
            ],
            "type": "contour"
           }
          ],
          "contourcarpet": [
           {
            "colorbar": {
             "outlinewidth": 0,
             "ticks": ""
            },
            "type": "contourcarpet"
           }
          ],
          "heatmap": [
           {
            "colorbar": {
             "outlinewidth": 0,
             "ticks": ""
            },
            "colorscale": [
             [
              0,
              "#0d0887"
             ],
             [
              0.1111111111111111,
              "#46039f"
             ],
             [
              0.2222222222222222,
              "#7201a8"
             ],
             [
              0.3333333333333333,
              "#9c179e"
             ],
             [
              0.4444444444444444,
              "#bd3786"
             ],
             [
              0.5555555555555556,
              "#d8576b"
             ],
             [
              0.6666666666666666,
              "#ed7953"
             ],
             [
              0.7777777777777778,
              "#fb9f3a"
             ],
             [
              0.8888888888888888,
              "#fdca26"
             ],
             [
              1,
              "#f0f921"
             ]
            ],
            "type": "heatmap"
           }
          ],
          "heatmapgl": [
           {
            "colorbar": {
             "outlinewidth": 0,
             "ticks": ""
            },
            "colorscale": [
             [
              0,
              "#0d0887"
             ],
             [
              0.1111111111111111,
              "#46039f"
             ],
             [
              0.2222222222222222,
              "#7201a8"
             ],
             [
              0.3333333333333333,
              "#9c179e"
             ],
             [
              0.4444444444444444,
              "#bd3786"
             ],
             [
              0.5555555555555556,
              "#d8576b"
             ],
             [
              0.6666666666666666,
              "#ed7953"
             ],
             [
              0.7777777777777778,
              "#fb9f3a"
             ],
             [
              0.8888888888888888,
              "#fdca26"
             ],
             [
              1,
              "#f0f921"
             ]
            ],
            "type": "heatmapgl"
           }
          ],
          "histogram": [
           {
            "marker": {
             "pattern": {
              "fillmode": "overlay",
              "size": 10,
              "solidity": 0.2
             }
            },
            "type": "histogram"
           }
          ],
          "histogram2d": [
           {
            "colorbar": {
             "outlinewidth": 0,
             "ticks": ""
            },
            "colorscale": [
             [
              0,
              "#0d0887"
             ],
             [
              0.1111111111111111,
              "#46039f"
             ],
             [
              0.2222222222222222,
              "#7201a8"
             ],
             [
              0.3333333333333333,
              "#9c179e"
             ],
             [
              0.4444444444444444,
              "#bd3786"
             ],
             [
              0.5555555555555556,
              "#d8576b"
             ],
             [
              0.6666666666666666,
              "#ed7953"
             ],
             [
              0.7777777777777778,
              "#fb9f3a"
             ],
             [
              0.8888888888888888,
              "#fdca26"
             ],
             [
              1,
              "#f0f921"
             ]
            ],
            "type": "histogram2d"
           }
          ],
          "histogram2dcontour": [
           {
            "colorbar": {
             "outlinewidth": 0,
             "ticks": ""
            },
            "colorscale": [
             [
              0,
              "#0d0887"
             ],
             [
              0.1111111111111111,
              "#46039f"
             ],
             [
              0.2222222222222222,
              "#7201a8"
             ],
             [
              0.3333333333333333,
              "#9c179e"
             ],
             [
              0.4444444444444444,
              "#bd3786"
             ],
             [
              0.5555555555555556,
              "#d8576b"
             ],
             [
              0.6666666666666666,
              "#ed7953"
             ],
             [
              0.7777777777777778,
              "#fb9f3a"
             ],
             [
              0.8888888888888888,
              "#fdca26"
             ],
             [
              1,
              "#f0f921"
             ]
            ],
            "type": "histogram2dcontour"
           }
          ],
          "mesh3d": [
           {
            "colorbar": {
             "outlinewidth": 0,
             "ticks": ""
            },
            "type": "mesh3d"
           }
          ],
          "parcoords": [
           {
            "line": {
             "colorbar": {
              "outlinewidth": 0,
              "ticks": ""
             }
            },
            "type": "parcoords"
           }
          ],
          "pie": [
           {
            "automargin": true,
            "type": "pie"
           }
          ],
          "scatter": [
           {
            "fillpattern": {
             "fillmode": "overlay",
             "size": 10,
             "solidity": 0.2
            },
            "type": "scatter"
           }
          ],
          "scatter3d": [
           {
            "line": {
             "colorbar": {
              "outlinewidth": 0,
              "ticks": ""
             }
            },
            "marker": {
             "colorbar": {
              "outlinewidth": 0,
              "ticks": ""
             }
            },
            "type": "scatter3d"
           }
          ],
          "scattercarpet": [
           {
            "marker": {
             "colorbar": {
              "outlinewidth": 0,
              "ticks": ""
             }
            },
            "type": "scattercarpet"
           }
          ],
          "scattergeo": [
           {
            "marker": {
             "colorbar": {
              "outlinewidth": 0,
              "ticks": ""
             }
            },
            "type": "scattergeo"
           }
          ],
          "scattergl": [
           {
            "marker": {
             "colorbar": {
              "outlinewidth": 0,
              "ticks": ""
             }
            },
            "type": "scattergl"
           }
          ],
          "scattermapbox": [
           {
            "marker": {
             "colorbar": {
              "outlinewidth": 0,
              "ticks": ""
             }
            },
            "type": "scattermapbox"
           }
          ],
          "scatterpolar": [
           {
            "marker": {
             "colorbar": {
              "outlinewidth": 0,
              "ticks": ""
             }
            },
            "type": "scatterpolar"
           }
          ],
          "scatterpolargl": [
           {
            "marker": {
             "colorbar": {
              "outlinewidth": 0,
              "ticks": ""
             }
            },
            "type": "scatterpolargl"
           }
          ],
          "scatterternary": [
           {
            "marker": {
             "colorbar": {
              "outlinewidth": 0,
              "ticks": ""
             }
            },
            "type": "scatterternary"
           }
          ],
          "surface": [
           {
            "colorbar": {
             "outlinewidth": 0,
             "ticks": ""
            },
            "colorscale": [
             [
              0,
              "#0d0887"
             ],
             [
              0.1111111111111111,
              "#46039f"
             ],
             [
              0.2222222222222222,
              "#7201a8"
             ],
             [
              0.3333333333333333,
              "#9c179e"
             ],
             [
              0.4444444444444444,
              "#bd3786"
             ],
             [
              0.5555555555555556,
              "#d8576b"
             ],
             [
              0.6666666666666666,
              "#ed7953"
             ],
             [
              0.7777777777777778,
              "#fb9f3a"
             ],
             [
              0.8888888888888888,
              "#fdca26"
             ],
             [
              1,
              "#f0f921"
             ]
            ],
            "type": "surface"
           }
          ],
          "table": [
           {
            "cells": {
             "fill": {
              "color": "#EBF0F8"
             },
             "line": {
              "color": "white"
             }
            },
            "header": {
             "fill": {
              "color": "#C8D4E3"
             },
             "line": {
              "color": "white"
             }
            },
            "type": "table"
           }
          ]
         },
         "layout": {
          "annotationdefaults": {
           "arrowcolor": "#2a3f5f",
           "arrowhead": 0,
           "arrowwidth": 1
          },
          "autotypenumbers": "strict",
          "coloraxis": {
           "colorbar": {
            "outlinewidth": 0,
            "ticks": ""
           }
          },
          "colorscale": {
           "diverging": [
            [
             0,
             "#8e0152"
            ],
            [
             0.1,
             "#c51b7d"
            ],
            [
             0.2,
             "#de77ae"
            ],
            [
             0.3,
             "#f1b6da"
            ],
            [
             0.4,
             "#fde0ef"
            ],
            [
             0.5,
             "#f7f7f7"
            ],
            [
             0.6,
             "#e6f5d0"
            ],
            [
             0.7,
             "#b8e186"
            ],
            [
             0.8,
             "#7fbc41"
            ],
            [
             0.9,
             "#4d9221"
            ],
            [
             1,
             "#276419"
            ]
           ],
           "sequential": [
            [
             0,
             "#0d0887"
            ],
            [
             0.1111111111111111,
             "#46039f"
            ],
            [
             0.2222222222222222,
             "#7201a8"
            ],
            [
             0.3333333333333333,
             "#9c179e"
            ],
            [
             0.4444444444444444,
             "#bd3786"
            ],
            [
             0.5555555555555556,
             "#d8576b"
            ],
            [
             0.6666666666666666,
             "#ed7953"
            ],
            [
             0.7777777777777778,
             "#fb9f3a"
            ],
            [
             0.8888888888888888,
             "#fdca26"
            ],
            [
             1,
             "#f0f921"
            ]
           ],
           "sequentialminus": [
            [
             0,
             "#0d0887"
            ],
            [
             0.1111111111111111,
             "#46039f"
            ],
            [
             0.2222222222222222,
             "#7201a8"
            ],
            [
             0.3333333333333333,
             "#9c179e"
            ],
            [
             0.4444444444444444,
             "#bd3786"
            ],
            [
             0.5555555555555556,
             "#d8576b"
            ],
            [
             0.6666666666666666,
             "#ed7953"
            ],
            [
             0.7777777777777778,
             "#fb9f3a"
            ],
            [
             0.8888888888888888,
             "#fdca26"
            ],
            [
             1,
             "#f0f921"
            ]
           ]
          },
          "colorway": [
           "#636efa",
           "#EF553B",
           "#00cc96",
           "#ab63fa",
           "#FFA15A",
           "#19d3f3",
           "#FF6692",
           "#B6E880",
           "#FF97FF",
           "#FECB52"
          ],
          "font": {
           "color": "#2a3f5f"
          },
          "geo": {
           "bgcolor": "white",
           "lakecolor": "white",
           "landcolor": "#E5ECF6",
           "showlakes": true,
           "showland": true,
           "subunitcolor": "white"
          },
          "hoverlabel": {
           "align": "left"
          },
          "hovermode": "closest",
          "mapbox": {
           "style": "light"
          },
          "paper_bgcolor": "white",
          "plot_bgcolor": "#E5ECF6",
          "polar": {
           "angularaxis": {
            "gridcolor": "white",
            "linecolor": "white",
            "ticks": ""
           },
           "bgcolor": "#E5ECF6",
           "radialaxis": {
            "gridcolor": "white",
            "linecolor": "white",
            "ticks": ""
           }
          },
          "scene": {
           "xaxis": {
            "backgroundcolor": "#E5ECF6",
            "gridcolor": "white",
            "gridwidth": 2,
            "linecolor": "white",
            "showbackground": true,
            "ticks": "",
            "zerolinecolor": "white"
           },
           "yaxis": {
            "backgroundcolor": "#E5ECF6",
            "gridcolor": "white",
            "gridwidth": 2,
            "linecolor": "white",
            "showbackground": true,
            "ticks": "",
            "zerolinecolor": "white"
           },
           "zaxis": {
            "backgroundcolor": "#E5ECF6",
            "gridcolor": "white",
            "gridwidth": 2,
            "linecolor": "white",
            "showbackground": true,
            "ticks": "",
            "zerolinecolor": "white"
           }
          },
          "shapedefaults": {
           "line": {
            "color": "#2a3f5f"
           }
          },
          "ternary": {
           "aaxis": {
            "gridcolor": "white",
            "linecolor": "white",
            "ticks": ""
           },
           "baxis": {
            "gridcolor": "white",
            "linecolor": "white",
            "ticks": ""
           },
           "bgcolor": "#E5ECF6",
           "caxis": {
            "gridcolor": "white",
            "linecolor": "white",
            "ticks": ""
           }
          },
          "title": {
           "x": 0.05
          },
          "xaxis": {
           "automargin": true,
           "gridcolor": "white",
           "linecolor": "white",
           "ticks": "",
           "title": {
            "standoff": 15
           },
           "zerolinecolor": "white",
           "zerolinewidth": 2
          },
          "yaxis": {
           "automargin": true,
           "gridcolor": "white",
           "linecolor": "white",
           "ticks": "",
           "title": {
            "standoff": 15
           },
           "zerolinecolor": "white",
           "zerolinewidth": 2
          }
         }
        },
        "title": {
         "text": "Frame 364812"
        }
       }
      }
     },
     "metadata": {},
     "output_type": "display_data"
    },
    {
     "data": {
      "application/vnd.plotly.v1+json": {
       "config": {
        "plotlyServerURL": "https://plot.ly"
       },
       "data": [
        {
         "marker": {
          "color": "black",
          "size": 2
         },
         "mode": "markers",
         "name": "Keypoints",
         "type": "scatter3d",
         "x": [
          512.9661782663079,
          600.6241326501781,
          524.3043615150399,
          638.0829825527314,
          616.1399748097208,
          555.9660502422422,
          728.0729386934588,
          640.175343689213,
          724.9755772255916,
          794.3930509747349,
          847.4125158080764,
          562.4642470826091
         ],
         "y": [
          637.215729168356,
          567.9798648026756,
          515.341995870866,
          422.3417230027625,
          525.3451827696942,
          495.2823159341314,
          387.9189878647537,
          319.7869253001399,
          263.1509576238413,
          101.16778811935582,
          -120.48533916413824,
          541.6609303367708
         ],
         "z": [
          -17.84426692920955,
          70.14124181091002,
          73.62994185279649,
          35.487847572798394,
          -88.61857095765072,
          -95.91383523502915,
          -121.43411802524876,
          -113.38617506519344,
          -29.30247922010053,
          -24.08791642592372,
          -48.7293440983733,
          71.88559183185325
         ]
        },
        {
         "line": {
          "color": "#FF5733",
          "width": 6
         },
         "mode": "lines",
         "name": "Line 1-2",
         "type": "scatter3d",
         "x": [
          512.9661782663079,
          600.6241326501781
         ],
         "y": [
          637.215729168356,
          567.9798648026756
         ],
         "z": [
          -17.84426692920955,
          70.14124181091002
         ]
        },
        {
         "line": {
          "color": "#33FF57",
          "width": 6
         },
         "mode": "lines",
         "name": "Line 1-3",
         "type": "scatter3d",
         "x": [
          512.9661782663079,
          524.3043615150399
         ],
         "y": [
          637.215729168356,
          515.341995870866
         ],
         "z": [
          -17.84426692920955,
          73.62994185279649
         ]
        },
        {
         "line": {
          "color": "#3357FF",
          "width": 6
         },
         "mode": "lines",
         "name": "Line 2-3",
         "type": "scatter3d",
         "x": [
          600.6241326501781,
          524.3043615150399
         ],
         "y": [
          567.9798648026756,
          515.341995870866
         ],
         "z": [
          70.14124181091002,
          73.62994185279649
         ]
        },
        {
         "line": {
          "color": "#F1C40F",
          "width": 6
         },
         "mode": "lines",
         "name": "Line 4-12",
         "type": "scatter3d",
         "x": [
          638.0829825527314,
          562.4642470826091
         ],
         "y": [
          422.3417230027625,
          541.6609303367708
         ],
         "z": [
          35.487847572798394,
          71.88559183185325
         ]
        },
        {
         "line": {
          "color": "#9B59B6",
          "width": 6
         },
         "mode": "lines",
         "name": "Line 4-5",
         "type": "scatter3d",
         "x": [
          638.0829825527314,
          616.1399748097208
         ],
         "y": [
          422.3417230027625,
          525.3451827696942
         ],
         "z": [
          35.487847572798394,
          -88.61857095765072
         ]
        },
        {
         "line": {
          "color": "#1ABC9C",
          "width": 6
         },
         "mode": "lines",
         "name": "Line 4-6",
         "type": "scatter3d",
         "x": [
          638.0829825527314,
          555.9660502422422
         ],
         "y": [
          422.3417230027625,
          495.2823159341314
         ],
         "z": [
          35.487847572798394,
          -95.91383523502915
         ]
        },
        {
         "line": {
          "color": "#E74C3C",
          "width": 6
         },
         "mode": "lines",
         "name": "Line 4-7",
         "type": "scatter3d",
         "x": [
          638.0829825527314,
          728.0729386934588
         ],
         "y": [
          422.3417230027625,
          387.9189878647537
         ],
         "z": [
          35.487847572798394,
          -121.43411802524876
         ]
        },
        {
         "line": {
          "color": "#8E44AD",
          "width": 6
         },
         "mode": "lines",
         "name": "Line 4-8",
         "type": "scatter3d",
         "x": [
          638.0829825527314,
          640.175343689213
         ],
         "y": [
          422.3417230027625,
          319.7869253001399
         ],
         "z": [
          35.487847572798394,
          -113.38617506519344
         ]
        },
        {
         "line": {
          "color": "#2ECC71",
          "width": 6
         },
         "mode": "lines",
         "name": "Line 4-9",
         "type": "scatter3d",
         "x": [
          638.0829825527314,
          724.9755772255916
         ],
         "y": [
          422.3417230027625,
          263.1509576238413
         ],
         "z": [
          35.487847572798394,
          -29.30247922010053
         ]
        },
        {
         "line": {
          "color": "#3498DB",
          "width": 6
         },
         "mode": "lines",
         "name": "Line 9-10",
         "type": "scatter3d",
         "x": [
          724.9755772255916,
          794.3930509747349
         ],
         "y": [
          263.1509576238413,
          101.16778811935582
         ],
         "z": [
          -29.30247922010053,
          -24.08791642592372
         ]
        },
        {
         "line": {
          "color": "#F39C12",
          "width": 6
         },
         "mode": "lines",
         "name": "Line 10-11",
         "type": "scatter3d",
         "x": [
          794.3930509747349,
          847.4125158080764
         ],
         "y": [
          101.16778811935582,
          -120.48533916413824
         ],
         "z": [
          -24.08791642592372,
          -48.7293440983733
         ]
        }
       ],
       "layout": {
        "scene": {
         "aspectmode": "cube",
         "bgcolor": "rgba(0, 0, 0, 0)",
         "xaxis": {
          "backgroundcolor": "rgba(169, 169, 169, 0.6)",
          "linecolor": "black",
          "linewidth": 4,
          "range": [
           212.9661782663079,
           1147.4125158080765
          ],
          "showgrid": false,
          "showline": true,
          "showticklabels": false,
          "title": {
           "text": "X"
          }
         },
         "yaxis": {
          "backgroundcolor": "rgba(169, 169, 169, 0.6)",
          "linecolor": "black",
          "linewidth": 4,
          "range": [
           -420.4853391641382,
           937.215729168356
          ],
          "showgrid": false,
          "showline": true,
          "showticklabels": false,
          "title": {
           "text": "Y"
          }
         },
         "zaxis": {
          "backgroundcolor": "rgba(169, 169, 169, 0.6)",
          "linecolor": "black",
          "linewidth": 4,
          "range": [
           -421.4341180252488,
           373.6299418527965
          ],
          "showgrid": false,
          "showline": true,
          "showticklabels": false,
          "title": {
           "text": "Z"
          }
         }
        },
        "showlegend": true,
        "template": {
         "data": {
          "bar": [
           {
            "error_x": {
             "color": "#2a3f5f"
            },
            "error_y": {
             "color": "#2a3f5f"
            },
            "marker": {
             "line": {
              "color": "#E5ECF6",
              "width": 0.5
             },
             "pattern": {
              "fillmode": "overlay",
              "size": 10,
              "solidity": 0.2
             }
            },
            "type": "bar"
           }
          ],
          "barpolar": [
           {
            "marker": {
             "line": {
              "color": "#E5ECF6",
              "width": 0.5
             },
             "pattern": {
              "fillmode": "overlay",
              "size": 10,
              "solidity": 0.2
             }
            },
            "type": "barpolar"
           }
          ],
          "carpet": [
           {
            "aaxis": {
             "endlinecolor": "#2a3f5f",
             "gridcolor": "white",
             "linecolor": "white",
             "minorgridcolor": "white",
             "startlinecolor": "#2a3f5f"
            },
            "baxis": {
             "endlinecolor": "#2a3f5f",
             "gridcolor": "white",
             "linecolor": "white",
             "minorgridcolor": "white",
             "startlinecolor": "#2a3f5f"
            },
            "type": "carpet"
           }
          ],
          "choropleth": [
           {
            "colorbar": {
             "outlinewidth": 0,
             "ticks": ""
            },
            "type": "choropleth"
           }
          ],
          "contour": [
           {
            "colorbar": {
             "outlinewidth": 0,
             "ticks": ""
            },
            "colorscale": [
             [
              0,
              "#0d0887"
             ],
             [
              0.1111111111111111,
              "#46039f"
             ],
             [
              0.2222222222222222,
              "#7201a8"
             ],
             [
              0.3333333333333333,
              "#9c179e"
             ],
             [
              0.4444444444444444,
              "#bd3786"
             ],
             [
              0.5555555555555556,
              "#d8576b"
             ],
             [
              0.6666666666666666,
              "#ed7953"
             ],
             [
              0.7777777777777778,
              "#fb9f3a"
             ],
             [
              0.8888888888888888,
              "#fdca26"
             ],
             [
              1,
              "#f0f921"
             ]
            ],
            "type": "contour"
           }
          ],
          "contourcarpet": [
           {
            "colorbar": {
             "outlinewidth": 0,
             "ticks": ""
            },
            "type": "contourcarpet"
           }
          ],
          "heatmap": [
           {
            "colorbar": {
             "outlinewidth": 0,
             "ticks": ""
            },
            "colorscale": [
             [
              0,
              "#0d0887"
             ],
             [
              0.1111111111111111,
              "#46039f"
             ],
             [
              0.2222222222222222,
              "#7201a8"
             ],
             [
              0.3333333333333333,
              "#9c179e"
             ],
             [
              0.4444444444444444,
              "#bd3786"
             ],
             [
              0.5555555555555556,
              "#d8576b"
             ],
             [
              0.6666666666666666,
              "#ed7953"
             ],
             [
              0.7777777777777778,
              "#fb9f3a"
             ],
             [
              0.8888888888888888,
              "#fdca26"
             ],
             [
              1,
              "#f0f921"
             ]
            ],
            "type": "heatmap"
           }
          ],
          "heatmapgl": [
           {
            "colorbar": {
             "outlinewidth": 0,
             "ticks": ""
            },
            "colorscale": [
             [
              0,
              "#0d0887"
             ],
             [
              0.1111111111111111,
              "#46039f"
             ],
             [
              0.2222222222222222,
              "#7201a8"
             ],
             [
              0.3333333333333333,
              "#9c179e"
             ],
             [
              0.4444444444444444,
              "#bd3786"
             ],
             [
              0.5555555555555556,
              "#d8576b"
             ],
             [
              0.6666666666666666,
              "#ed7953"
             ],
             [
              0.7777777777777778,
              "#fb9f3a"
             ],
             [
              0.8888888888888888,
              "#fdca26"
             ],
             [
              1,
              "#f0f921"
             ]
            ],
            "type": "heatmapgl"
           }
          ],
          "histogram": [
           {
            "marker": {
             "pattern": {
              "fillmode": "overlay",
              "size": 10,
              "solidity": 0.2
             }
            },
            "type": "histogram"
           }
          ],
          "histogram2d": [
           {
            "colorbar": {
             "outlinewidth": 0,
             "ticks": ""
            },
            "colorscale": [
             [
              0,
              "#0d0887"
             ],
             [
              0.1111111111111111,
              "#46039f"
             ],
             [
              0.2222222222222222,
              "#7201a8"
             ],
             [
              0.3333333333333333,
              "#9c179e"
             ],
             [
              0.4444444444444444,
              "#bd3786"
             ],
             [
              0.5555555555555556,
              "#d8576b"
             ],
             [
              0.6666666666666666,
              "#ed7953"
             ],
             [
              0.7777777777777778,
              "#fb9f3a"
             ],
             [
              0.8888888888888888,
              "#fdca26"
             ],
             [
              1,
              "#f0f921"
             ]
            ],
            "type": "histogram2d"
           }
          ],
          "histogram2dcontour": [
           {
            "colorbar": {
             "outlinewidth": 0,
             "ticks": ""
            },
            "colorscale": [
             [
              0,
              "#0d0887"
             ],
             [
              0.1111111111111111,
              "#46039f"
             ],
             [
              0.2222222222222222,
              "#7201a8"
             ],
             [
              0.3333333333333333,
              "#9c179e"
             ],
             [
              0.4444444444444444,
              "#bd3786"
             ],
             [
              0.5555555555555556,
              "#d8576b"
             ],
             [
              0.6666666666666666,
              "#ed7953"
             ],
             [
              0.7777777777777778,
              "#fb9f3a"
             ],
             [
              0.8888888888888888,
              "#fdca26"
             ],
             [
              1,
              "#f0f921"
             ]
            ],
            "type": "histogram2dcontour"
           }
          ],
          "mesh3d": [
           {
            "colorbar": {
             "outlinewidth": 0,
             "ticks": ""
            },
            "type": "mesh3d"
           }
          ],
          "parcoords": [
           {
            "line": {
             "colorbar": {
              "outlinewidth": 0,
              "ticks": ""
             }
            },
            "type": "parcoords"
           }
          ],
          "pie": [
           {
            "automargin": true,
            "type": "pie"
           }
          ],
          "scatter": [
           {
            "fillpattern": {
             "fillmode": "overlay",
             "size": 10,
             "solidity": 0.2
            },
            "type": "scatter"
           }
          ],
          "scatter3d": [
           {
            "line": {
             "colorbar": {
              "outlinewidth": 0,
              "ticks": ""
             }
            },
            "marker": {
             "colorbar": {
              "outlinewidth": 0,
              "ticks": ""
             }
            },
            "type": "scatter3d"
           }
          ],
          "scattercarpet": [
           {
            "marker": {
             "colorbar": {
              "outlinewidth": 0,
              "ticks": ""
             }
            },
            "type": "scattercarpet"
           }
          ],
          "scattergeo": [
           {
            "marker": {
             "colorbar": {
              "outlinewidth": 0,
              "ticks": ""
             }
            },
            "type": "scattergeo"
           }
          ],
          "scattergl": [
           {
            "marker": {
             "colorbar": {
              "outlinewidth": 0,
              "ticks": ""
             }
            },
            "type": "scattergl"
           }
          ],
          "scattermapbox": [
           {
            "marker": {
             "colorbar": {
              "outlinewidth": 0,
              "ticks": ""
             }
            },
            "type": "scattermapbox"
           }
          ],
          "scatterpolar": [
           {
            "marker": {
             "colorbar": {
              "outlinewidth": 0,
              "ticks": ""
             }
            },
            "type": "scatterpolar"
           }
          ],
          "scatterpolargl": [
           {
            "marker": {
             "colorbar": {
              "outlinewidth": 0,
              "ticks": ""
             }
            },
            "type": "scatterpolargl"
           }
          ],
          "scatterternary": [
           {
            "marker": {
             "colorbar": {
              "outlinewidth": 0,
              "ticks": ""
             }
            },
            "type": "scatterternary"
           }
          ],
          "surface": [
           {
            "colorbar": {
             "outlinewidth": 0,
             "ticks": ""
            },
            "colorscale": [
             [
              0,
              "#0d0887"
             ],
             [
              0.1111111111111111,
              "#46039f"
             ],
             [
              0.2222222222222222,
              "#7201a8"
             ],
             [
              0.3333333333333333,
              "#9c179e"
             ],
             [
              0.4444444444444444,
              "#bd3786"
             ],
             [
              0.5555555555555556,
              "#d8576b"
             ],
             [
              0.6666666666666666,
              "#ed7953"
             ],
             [
              0.7777777777777778,
              "#fb9f3a"
             ],
             [
              0.8888888888888888,
              "#fdca26"
             ],
             [
              1,
              "#f0f921"
             ]
            ],
            "type": "surface"
           }
          ],
          "table": [
           {
            "cells": {
             "fill": {
              "color": "#EBF0F8"
             },
             "line": {
              "color": "white"
             }
            },
            "header": {
             "fill": {
              "color": "#C8D4E3"
             },
             "line": {
              "color": "white"
             }
            },
            "type": "table"
           }
          ]
         },
         "layout": {
          "annotationdefaults": {
           "arrowcolor": "#2a3f5f",
           "arrowhead": 0,
           "arrowwidth": 1
          },
          "autotypenumbers": "strict",
          "coloraxis": {
           "colorbar": {
            "outlinewidth": 0,
            "ticks": ""
           }
          },
          "colorscale": {
           "diverging": [
            [
             0,
             "#8e0152"
            ],
            [
             0.1,
             "#c51b7d"
            ],
            [
             0.2,
             "#de77ae"
            ],
            [
             0.3,
             "#f1b6da"
            ],
            [
             0.4,
             "#fde0ef"
            ],
            [
             0.5,
             "#f7f7f7"
            ],
            [
             0.6,
             "#e6f5d0"
            ],
            [
             0.7,
             "#b8e186"
            ],
            [
             0.8,
             "#7fbc41"
            ],
            [
             0.9,
             "#4d9221"
            ],
            [
             1,
             "#276419"
            ]
           ],
           "sequential": [
            [
             0,
             "#0d0887"
            ],
            [
             0.1111111111111111,
             "#46039f"
            ],
            [
             0.2222222222222222,
             "#7201a8"
            ],
            [
             0.3333333333333333,
             "#9c179e"
            ],
            [
             0.4444444444444444,
             "#bd3786"
            ],
            [
             0.5555555555555556,
             "#d8576b"
            ],
            [
             0.6666666666666666,
             "#ed7953"
            ],
            [
             0.7777777777777778,
             "#fb9f3a"
            ],
            [
             0.8888888888888888,
             "#fdca26"
            ],
            [
             1,
             "#f0f921"
            ]
           ],
           "sequentialminus": [
            [
             0,
             "#0d0887"
            ],
            [
             0.1111111111111111,
             "#46039f"
            ],
            [
             0.2222222222222222,
             "#7201a8"
            ],
            [
             0.3333333333333333,
             "#9c179e"
            ],
            [
             0.4444444444444444,
             "#bd3786"
            ],
            [
             0.5555555555555556,
             "#d8576b"
            ],
            [
             0.6666666666666666,
             "#ed7953"
            ],
            [
             0.7777777777777778,
             "#fb9f3a"
            ],
            [
             0.8888888888888888,
             "#fdca26"
            ],
            [
             1,
             "#f0f921"
            ]
           ]
          },
          "colorway": [
           "#636efa",
           "#EF553B",
           "#00cc96",
           "#ab63fa",
           "#FFA15A",
           "#19d3f3",
           "#FF6692",
           "#B6E880",
           "#FF97FF",
           "#FECB52"
          ],
          "font": {
           "color": "#2a3f5f"
          },
          "geo": {
           "bgcolor": "white",
           "lakecolor": "white",
           "landcolor": "#E5ECF6",
           "showlakes": true,
           "showland": true,
           "subunitcolor": "white"
          },
          "hoverlabel": {
           "align": "left"
          },
          "hovermode": "closest",
          "mapbox": {
           "style": "light"
          },
          "paper_bgcolor": "white",
          "plot_bgcolor": "#E5ECF6",
          "polar": {
           "angularaxis": {
            "gridcolor": "white",
            "linecolor": "white",
            "ticks": ""
           },
           "bgcolor": "#E5ECF6",
           "radialaxis": {
            "gridcolor": "white",
            "linecolor": "white",
            "ticks": ""
           }
          },
          "scene": {
           "xaxis": {
            "backgroundcolor": "#E5ECF6",
            "gridcolor": "white",
            "gridwidth": 2,
            "linecolor": "white",
            "showbackground": true,
            "ticks": "",
            "zerolinecolor": "white"
           },
           "yaxis": {
            "backgroundcolor": "#E5ECF6",
            "gridcolor": "white",
            "gridwidth": 2,
            "linecolor": "white",
            "showbackground": true,
            "ticks": "",
            "zerolinecolor": "white"
           },
           "zaxis": {
            "backgroundcolor": "#E5ECF6",
            "gridcolor": "white",
            "gridwidth": 2,
            "linecolor": "white",
            "showbackground": true,
            "ticks": "",
            "zerolinecolor": "white"
           }
          },
          "shapedefaults": {
           "line": {
            "color": "#2a3f5f"
           }
          },
          "ternary": {
           "aaxis": {
            "gridcolor": "white",
            "linecolor": "white",
            "ticks": ""
           },
           "baxis": {
            "gridcolor": "white",
            "linecolor": "white",
            "ticks": ""
           },
           "bgcolor": "#E5ECF6",
           "caxis": {
            "gridcolor": "white",
            "linecolor": "white",
            "ticks": ""
           }
          },
          "title": {
           "x": 0.05
          },
          "xaxis": {
           "automargin": true,
           "gridcolor": "white",
           "linecolor": "white",
           "ticks": "",
           "title": {
            "standoff": 15
           },
           "zerolinecolor": "white",
           "zerolinewidth": 2
          },
          "yaxis": {
           "automargin": true,
           "gridcolor": "white",
           "linecolor": "white",
           "ticks": "",
           "title": {
            "standoff": 15
           },
           "zerolinecolor": "white",
           "zerolinewidth": 2
          }
         }
        },
        "title": {
         "text": "Frame 364813"
        }
       }
      }
     },
     "metadata": {},
     "output_type": "display_data"
    }
   ],
   "source": [
    "#############plot closest indices in each cluster posture\n",
    "medoid_indices = np.load('/home/jiyoung/Desktop/lai_240524/Post-pose3D/result/newdebug3/hdbscan/medoid/medoid_indices_500.npy')\n",
    "lpdata_3d = pd.read_csv('/home/jiyoung/Desktop/lai_240524/Post-pose3D/result/newdebug2/pca_0.99.csv').values\n",
    "closest_indices = np.load('/home/jiyoung/Desktop/lai_240524/Post-pose3D/result/newdebug3/hdbscan/medoid/cluster_sampling_indices_500.npy')\n",
    "\n",
    "# Preparation of movie keypoint\n",
    "additional_points = {\"12\": (2, 3)}\n",
    "lpdata_3d_new = calculate_additional_keypoints(lpdata_3d, additional_points)\n",
    "\n",
    "print(f\"Original shape: {lpdata_3d.shape}\")\n",
    "print(f\"New shape: {lpdata_3d_new.shape}\")\n",
    "\n",
    "# Rotation of data for visualization\n",
    "angles = [40,20]  # 각 축에 대한 회전 각도 (도 단위)\n",
    "axes = ['x','y']  # 회전할 축\n",
    "rotated_data = rotate_data(lpdata_3d_new, angles_deg=angles, axes=axes)\n",
    "\n",
    "# visualize medoid posture by clusters\n",
    "keypoint_pairs = [(1, 2), (1, 3), (2, 3), (4, 12), (4, 5), (4, 6), (4, 7), (4, 8), (4, 9), (9, 10), (10, 11)]\n",
    "\n",
    "cluster_number = 3\n",
    "medoid_frames = closest_indices[cluster_number][:6]\n",
    "print(medoid_frames[0],medoid_indices[cluster_number])\n",
    "for idx, frame in enumerate(medoid_frames):\n",
    "    plot_3d_keypoints_frame_plotly(lpdata_3d_new,keypoint_pairs,frame)\n",
    "    #plot_3d_keypoints_frame_plotly(rotated_data,keypoint_pairs,frame)\n",
    "    "
   ]
  }
 ],
 "metadata": {
  "kernelspec": {
   "display_name": "test",
   "language": "python",
   "name": "python3"
  },
  "language_info": {
   "codemirror_mode": {
    "name": "ipython",
    "version": 3
   },
   "file_extension": ".py",
   "mimetype": "text/x-python",
   "name": "python",
   "nbconvert_exporter": "python",
   "pygments_lexer": "ipython3",
   "version": "3.10.15"
  }
 },
 "nbformat": 4,
 "nbformat_minor": 2
}
